{
 "cells": [
  {
   "cell_type": "markdown",
   "metadata": {},
   "source": [
    "# TODOS\n",
    "\n",
    "* Numeric data (temperature, snow, wind, distance):\n",
    "    * Convert to same unit - convert to US units\n",
    "    * Impute missing values\n",
    "    * Standardize/normalize\n",
    "* For categorical data:\n",
    "    * Encode appropriately\n",
    "    * Composites -> if no 4 then take average and treat as new category, 4 trumps all\n",
    "* Age of circles - older circles are more numerous\n",
    "* Any outliers for these\n",
    "\n",
    "## Goal after cleaning\n",
    "\n",
    "Predict how many people will show up."
   ]
  },
  {
   "cell_type": "markdown",
   "metadata": {},
   "source": [
    "### See data dictionary: \n",
    "\n",
    "http://www.audubon.org/sites/default/files/documents/cbc_report_field_definitions_2013.pdf"
   ]
  },
  {
   "cell_type": "code",
   "execution_count": 1,
   "metadata": {},
   "outputs": [],
   "source": [
    "# !pip install units  # or install with conda - just run once if installing from jupyter notebook"
   ]
  },
  {
   "cell_type": "code",
   "execution_count": 2,
   "metadata": {
    "collapsed": false
   },
   "outputs": [],
   "source": [
    "import numpy as np\n",
    "import pandas as pd\n",
    "import matplotlib.pyplot as plt\n",
    "import seaborn as sns\n",
    "from sklearn.linear_model import LinearRegression\n",
    "from sklearn.ensemble import RandomForestRegressor\n",
    "from units import unit"
   ]
  },
  {
   "cell_type": "code",
   "execution_count": 3,
   "metadata": {
    "collapsed": true
   },
   "outputs": [],
   "source": [
    "raw_data = pd.read_csv(\"cbc_effort_weather_1900-2018.csv\", encoding = \"ISO-8859-1\")"
   ]
  },
  {
   "cell_type": "code",
   "execution_count": 4,
   "metadata": {},
   "outputs": [
    {
     "data": {
      "text/html": [
       "<div>\n",
       "<style scoped>\n",
       "    .dataframe tbody tr th:only-of-type {\n",
       "        vertical-align: middle;\n",
       "    }\n",
       "\n",
       "    .dataframe tbody tr th {\n",
       "        vertical-align: top;\n",
       "    }\n",
       "\n",
       "    .dataframe thead th {\n",
       "        text-align: right;\n",
       "    }\n",
       "</style>\n",
       "<table border=\"1\" class=\"dataframe\">\n",
       "  <thead>\n",
       "    <tr style=\"text-align: right;\">\n",
       "      <th></th>\n",
       "      <th>circle_name</th>\n",
       "      <th>country_state</th>\n",
       "      <th>lat</th>\n",
       "      <th>lon</th>\n",
       "      <th>count_year</th>\n",
       "      <th>count_date</th>\n",
       "      <th>n_field_counters</th>\n",
       "      <th>n_feeder_counters</th>\n",
       "      <th>min_field_parties</th>\n",
       "      <th>max_field_parties</th>\n",
       "      <th>...</th>\n",
       "      <th>wind_unit</th>\n",
       "      <th>min_snow</th>\n",
       "      <th>max_snow</th>\n",
       "      <th>snow_unit</th>\n",
       "      <th>am_cloud</th>\n",
       "      <th>pm_cloud</th>\n",
       "      <th>am_rain</th>\n",
       "      <th>pm_rain</th>\n",
       "      <th>am_snow</th>\n",
       "      <th>pm_snow</th>\n",
       "    </tr>\n",
       "  </thead>\n",
       "  <tbody>\n",
       "    <tr>\n",
       "      <th>0</th>\n",
       "      <td>Scotch Lake</td>\n",
       "      <td>CA-NB</td>\n",
       "      <td>45.950000</td>\n",
       "      <td>-66.983300</td>\n",
       "      <td>1901</td>\n",
       "      <td>1900-12-25</td>\n",
       "      <td>1.0</td>\n",
       "      <td>NaN</td>\n",
       "      <td>NaN</td>\n",
       "      <td>NaN</td>\n",
       "      <td>...</td>\n",
       "      <td>NaN</td>\n",
       "      <td>NaN</td>\n",
       "      <td>NaN</td>\n",
       "      <td>NaN</td>\n",
       "      <td>NaN</td>\n",
       "      <td>NaN</td>\n",
       "      <td>NaN</td>\n",
       "      <td>NaN</td>\n",
       "      <td>NaN</td>\n",
       "      <td>NaN</td>\n",
       "    </tr>\n",
       "    <tr>\n",
       "      <th>1</th>\n",
       "      <td>Toronto</td>\n",
       "      <td>CA-ON</td>\n",
       "      <td>43.700000</td>\n",
       "      <td>-79.416700</td>\n",
       "      <td>1901</td>\n",
       "      <td>1900-12-25</td>\n",
       "      <td>1.0</td>\n",
       "      <td>NaN</td>\n",
       "      <td>NaN</td>\n",
       "      <td>NaN</td>\n",
       "      <td>...</td>\n",
       "      <td>NaN</td>\n",
       "      <td>NaN</td>\n",
       "      <td>NaN</td>\n",
       "      <td>NaN</td>\n",
       "      <td>NaN</td>\n",
       "      <td>NaN</td>\n",
       "      <td>NaN</td>\n",
       "      <td>NaN</td>\n",
       "      <td>NaN</td>\n",
       "      <td>NaN</td>\n",
       "    </tr>\n",
       "    <tr>\n",
       "      <th>2</th>\n",
       "      <td>Pacific Grove</td>\n",
       "      <td>US-CA</td>\n",
       "      <td>36.616700</td>\n",
       "      <td>-121.916700</td>\n",
       "      <td>1901</td>\n",
       "      <td>1900-12-25</td>\n",
       "      <td>1.0</td>\n",
       "      <td>NaN</td>\n",
       "      <td>NaN</td>\n",
       "      <td>NaN</td>\n",
       "      <td>...</td>\n",
       "      <td>NaN</td>\n",
       "      <td>NaN</td>\n",
       "      <td>NaN</td>\n",
       "      <td>NaN</td>\n",
       "      <td>NaN</td>\n",
       "      <td>NaN</td>\n",
       "      <td>NaN</td>\n",
       "      <td>NaN</td>\n",
       "      <td>NaN</td>\n",
       "      <td>NaN</td>\n",
       "    </tr>\n",
       "    <tr>\n",
       "      <th>3</th>\n",
       "      <td>Pueblo</td>\n",
       "      <td>US-CO</td>\n",
       "      <td>38.175251</td>\n",
       "      <td>-104.519575</td>\n",
       "      <td>1901</td>\n",
       "      <td>1900-12-25</td>\n",
       "      <td>1.0</td>\n",
       "      <td>NaN</td>\n",
       "      <td>NaN</td>\n",
       "      <td>NaN</td>\n",
       "      <td>...</td>\n",
       "      <td>NaN</td>\n",
       "      <td>NaN</td>\n",
       "      <td>NaN</td>\n",
       "      <td>NaN</td>\n",
       "      <td>NaN</td>\n",
       "      <td>NaN</td>\n",
       "      <td>NaN</td>\n",
       "      <td>NaN</td>\n",
       "      <td>NaN</td>\n",
       "      <td>NaN</td>\n",
       "    </tr>\n",
       "    <tr>\n",
       "      <th>4</th>\n",
       "      <td>Bristol</td>\n",
       "      <td>US-CT</td>\n",
       "      <td>41.671800</td>\n",
       "      <td>-72.949500</td>\n",
       "      <td>1901</td>\n",
       "      <td>1900-12-25</td>\n",
       "      <td>2.0</td>\n",
       "      <td>NaN</td>\n",
       "      <td>NaN</td>\n",
       "      <td>NaN</td>\n",
       "      <td>...</td>\n",
       "      <td>NaN</td>\n",
       "      <td>NaN</td>\n",
       "      <td>NaN</td>\n",
       "      <td>NaN</td>\n",
       "      <td>NaN</td>\n",
       "      <td>NaN</td>\n",
       "      <td>NaN</td>\n",
       "      <td>NaN</td>\n",
       "      <td>NaN</td>\n",
       "      <td>NaN</td>\n",
       "    </tr>\n",
       "  </tbody>\n",
       "</table>\n",
       "<p>5 rows × 31 columns</p>\n",
       "</div>"
      ],
      "text/plain": [
       "     circle_name country_state        lat         lon  count_year  count_date  \\\n",
       "0    Scotch Lake         CA-NB  45.950000  -66.983300        1901  1900-12-25   \n",
       "1        Toronto         CA-ON  43.700000  -79.416700        1901  1900-12-25   \n",
       "2  Pacific Grove         US-CA  36.616700 -121.916700        1901  1900-12-25   \n",
       "3         Pueblo         US-CO  38.175251 -104.519575        1901  1900-12-25   \n",
       "4        Bristol         US-CT  41.671800  -72.949500        1901  1900-12-25   \n",
       "\n",
       "   n_field_counters  n_feeder_counters  min_field_parties  max_field_parties  \\\n",
       "0               1.0                NaN                NaN                NaN   \n",
       "1               1.0                NaN                NaN                NaN   \n",
       "2               1.0                NaN                NaN                NaN   \n",
       "3               1.0                NaN                NaN                NaN   \n",
       "4               2.0                NaN                NaN                NaN   \n",
       "\n",
       "   ...  wind_unit  min_snow  max_snow  snow_unit  am_cloud pm_cloud  am_rain  \\\n",
       "0  ...        NaN       NaN       NaN        NaN       NaN      NaN      NaN   \n",
       "1  ...        NaN       NaN       NaN        NaN       NaN      NaN      NaN   \n",
       "2  ...        NaN       NaN       NaN        NaN       NaN      NaN      NaN   \n",
       "3  ...        NaN       NaN       NaN        NaN       NaN      NaN      NaN   \n",
       "4  ...        NaN       NaN       NaN        NaN       NaN      NaN      NaN   \n",
       "\n",
       "   pm_rain  am_snow  pm_snow  \n",
       "0      NaN      NaN      NaN  \n",
       "1      NaN      NaN      NaN  \n",
       "2      NaN      NaN      NaN  \n",
       "3      NaN      NaN      NaN  \n",
       "4      NaN      NaN      NaN  \n",
       "\n",
       "[5 rows x 31 columns]"
      ]
     },
     "execution_count": 4,
     "metadata": {},
     "output_type": "execute_result"
    }
   ],
   "source": [
    "raw_data.head()"
   ]
  },
  {
   "cell_type": "code",
   "execution_count": 5,
   "metadata": {
    "collapsed": true
   },
   "outputs": [
    {
     "data": {
      "text/html": [
       "<div>\n",
       "<style scoped>\n",
       "    .dataframe tbody tr th:only-of-type {\n",
       "        vertical-align: middle;\n",
       "    }\n",
       "\n",
       "    .dataframe tbody tr th {\n",
       "        vertical-align: top;\n",
       "    }\n",
       "\n",
       "    .dataframe thead th {\n",
       "        text-align: right;\n",
       "    }\n",
       "</style>\n",
       "<table border=\"1\" class=\"dataframe\">\n",
       "  <thead>\n",
       "    <tr style=\"text-align: right;\">\n",
       "      <th></th>\n",
       "      <th>circle_name</th>\n",
       "      <th>country_state</th>\n",
       "      <th>lat</th>\n",
       "      <th>lon</th>\n",
       "      <th>count_year</th>\n",
       "      <th>count_date</th>\n",
       "      <th>n_field_counters</th>\n",
       "      <th>n_feeder_counters</th>\n",
       "      <th>min_field_parties</th>\n",
       "      <th>max_field_parties</th>\n",
       "      <th>...</th>\n",
       "      <th>wind_unit</th>\n",
       "      <th>min_snow</th>\n",
       "      <th>max_snow</th>\n",
       "      <th>snow_unit</th>\n",
       "      <th>am_cloud</th>\n",
       "      <th>pm_cloud</th>\n",
       "      <th>am_rain</th>\n",
       "      <th>pm_rain</th>\n",
       "      <th>am_snow</th>\n",
       "      <th>pm_snow</th>\n",
       "    </tr>\n",
       "  </thead>\n",
       "  <tbody>\n",
       "    <tr>\n",
       "      <th>106924</th>\n",
       "      <td>Sundance</td>\n",
       "      <td>US-WY</td>\n",
       "      <td>44.208072</td>\n",
       "      <td>-104.227101</td>\n",
       "      <td>2018</td>\n",
       "      <td>2017-12-30</td>\n",
       "      <td>4.0</td>\n",
       "      <td>12.0</td>\n",
       "      <td>3.0</td>\n",
       "      <td>3.0</td>\n",
       "      <td>...</td>\n",
       "      <td>1.0</td>\n",
       "      <td>1.0</td>\n",
       "      <td>4.0</td>\n",
       "      <td>2.0</td>\n",
       "      <td>6.0</td>\n",
       "      <td>6.0</td>\n",
       "      <td>3</td>\n",
       "      <td>3</td>\n",
       "      <td>3</td>\n",
       "      <td>3</td>\n",
       "    </tr>\n",
       "    <tr>\n",
       "      <th>106925</th>\n",
       "      <td>Tortola, British V.I.</td>\n",
       "      <td>VG-</td>\n",
       "      <td>18.350191</td>\n",
       "      <td>-64.616712</td>\n",
       "      <td>2018</td>\n",
       "      <td>2017-12-30</td>\n",
       "      <td>2.0</td>\n",
       "      <td>NaN</td>\n",
       "      <td>NaN</td>\n",
       "      <td>2.0</td>\n",
       "      <td>...</td>\n",
       "      <td>3.0</td>\n",
       "      <td>NaN</td>\n",
       "      <td>NaN</td>\n",
       "      <td>NaN</td>\n",
       "      <td>5.0</td>\n",
       "      <td>6.0</td>\n",
       "      <td>3</td>\n",
       "      <td>3</td>\n",
       "      <td>3</td>\n",
       "      <td>3</td>\n",
       "    </tr>\n",
       "    <tr>\n",
       "      <th>106926</th>\n",
       "      <td>East End, St. Croix, USVI</td>\n",
       "      <td>VI-</td>\n",
       "      <td>17.757222</td>\n",
       "      <td>-64.560191</td>\n",
       "      <td>2018</td>\n",
       "      <td>2017-12-17</td>\n",
       "      <td>17.0</td>\n",
       "      <td>NaN</td>\n",
       "      <td>NaN</td>\n",
       "      <td>7.0</td>\n",
       "      <td>...</td>\n",
       "      <td>1.0</td>\n",
       "      <td>NaN</td>\n",
       "      <td>NaN</td>\n",
       "      <td>NaN</td>\n",
       "      <td>6.0</td>\n",
       "      <td>2.0</td>\n",
       "      <td>3</td>\n",
       "      <td>1</td>\n",
       "      <td>3,1</td>\n",
       "      <td>3</td>\n",
       "    </tr>\n",
       "    <tr>\n",
       "      <th>106927</th>\n",
       "      <td>St. Croix, USVI</td>\n",
       "      <td>VI-</td>\n",
       "      <td>17.716794</td>\n",
       "      <td>-64.783308</td>\n",
       "      <td>2018</td>\n",
       "      <td>2017-12-17</td>\n",
       "      <td>19.0</td>\n",
       "      <td>NaN</td>\n",
       "      <td>NaN</td>\n",
       "      <td>10.0</td>\n",
       "      <td>...</td>\n",
       "      <td>1.0</td>\n",
       "      <td>NaN</td>\n",
       "      <td>NaN</td>\n",
       "      <td>NaN</td>\n",
       "      <td>6.0</td>\n",
       "      <td>2.0</td>\n",
       "      <td>3</td>\n",
       "      <td>1</td>\n",
       "      <td>NaN</td>\n",
       "      <td>NaN</td>\n",
       "    </tr>\n",
       "    <tr>\n",
       "      <th>106928</th>\n",
       "      <td>St. John, USVI</td>\n",
       "      <td>VI-</td>\n",
       "      <td>18.350191</td>\n",
       "      <td>-64.700021</td>\n",
       "      <td>2018</td>\n",
       "      <td>2017-12-23</td>\n",
       "      <td>24.0</td>\n",
       "      <td>NaN</td>\n",
       "      <td>16.0</td>\n",
       "      <td>16.0</td>\n",
       "      <td>...</td>\n",
       "      <td>1.0</td>\n",
       "      <td>NaN</td>\n",
       "      <td>NaN</td>\n",
       "      <td>NaN</td>\n",
       "      <td>1.0</td>\n",
       "      <td>1.0</td>\n",
       "      <td>3</td>\n",
       "      <td>3</td>\n",
       "      <td>NaN</td>\n",
       "      <td>NaN</td>\n",
       "    </tr>\n",
       "  </tbody>\n",
       "</table>\n",
       "<p>5 rows × 31 columns</p>\n",
       "</div>"
      ],
      "text/plain": [
       "                      circle_name country_state        lat         lon  \\\n",
       "106924                   Sundance         US-WY  44.208072 -104.227101   \n",
       "106925      Tortola, British V.I.           VG-  18.350191  -64.616712   \n",
       "106926  East End, St. Croix, USVI           VI-  17.757222  -64.560191   \n",
       "106927            St. Croix, USVI           VI-  17.716794  -64.783308   \n",
       "106928             St. John, USVI           VI-  18.350191  -64.700021   \n",
       "\n",
       "        count_year  count_date  n_field_counters  n_feeder_counters  \\\n",
       "106924        2018  2017-12-30               4.0               12.0   \n",
       "106925        2018  2017-12-30               2.0                NaN   \n",
       "106926        2018  2017-12-17              17.0                NaN   \n",
       "106927        2018  2017-12-17              19.0                NaN   \n",
       "106928        2018  2017-12-23              24.0                NaN   \n",
       "\n",
       "        min_field_parties  max_field_parties  ...  wind_unit  min_snow  \\\n",
       "106924                3.0                3.0  ...        1.0       1.0   \n",
       "106925                NaN                2.0  ...        3.0       NaN   \n",
       "106926                NaN                7.0  ...        1.0       NaN   \n",
       "106927                NaN               10.0  ...        1.0       NaN   \n",
       "106928               16.0               16.0  ...        1.0       NaN   \n",
       "\n",
       "        max_snow  snow_unit  am_cloud pm_cloud  am_rain  pm_rain  am_snow  \\\n",
       "106924       4.0        2.0       6.0      6.0        3        3        3   \n",
       "106925       NaN        NaN       5.0      6.0        3        3        3   \n",
       "106926       NaN        NaN       6.0      2.0        3        1      3,1   \n",
       "106927       NaN        NaN       6.0      2.0        3        1      NaN   \n",
       "106928       NaN        NaN       1.0      1.0        3        3      NaN   \n",
       "\n",
       "        pm_snow  \n",
       "106924        3  \n",
       "106925        3  \n",
       "106926        3  \n",
       "106927      NaN  \n",
       "106928      NaN  \n",
       "\n",
       "[5 rows x 31 columns]"
      ]
     },
     "execution_count": 5,
     "metadata": {},
     "output_type": "execute_result"
    }
   ],
   "source": [
    "raw_data.tail()"
   ]
  },
  {
   "cell_type": "code",
   "execution_count": 6,
   "metadata": {},
   "outputs": [
    {
     "data": {
      "text/plain": [
       "106929"
      ]
     },
     "execution_count": 6,
     "metadata": {},
     "output_type": "execute_result"
    }
   ],
   "source": [
    "len(raw_data)"
   ]
  },
  {
   "cell_type": "markdown",
   "metadata": {},
   "source": [
    "Drop the test sites."
   ]
  },
  {
   "cell_type": "code",
   "execution_count": 7,
   "metadata": {},
   "outputs": [],
   "source": [
    "raw_data = raw_data.drop(raw_data[raw_data[\"circle_name\"].str.contains(\"do not\")].index)"
   ]
  },
  {
   "cell_type": "code",
   "execution_count": 8,
   "metadata": {
    "collapsed": false
   },
   "outputs": [
    {
     "data": {
      "text/plain": [
       "(106925, 31)"
      ]
     },
     "execution_count": 8,
     "metadata": {},
     "output_type": "execute_result"
    }
   ],
   "source": [
    "raw_data.shape"
   ]
  },
  {
   "cell_type": "code",
   "execution_count": 9,
   "metadata": {
    "collapsed": false
   },
   "outputs": [
    {
     "name": "stdout",
     "output_type": "stream",
     "text": [
      "<class 'pandas.core.frame.DataFrame'>\n",
      "Int64Index: 106925 entries, 0 to 106928\n",
      "Data columns (total 31 columns):\n",
      "circle_name           106925 non-null object\n",
      "country_state         106925 non-null object\n",
      "lat                   106925 non-null float64\n",
      "lon                   106925 non-null float64\n",
      "count_year            106925 non-null int64\n",
      "count_date            106925 non-null object\n",
      "n_field_counters      106707 non-null float64\n",
      "n_feeder_counters     50575 non-null float64\n",
      "min_field_parties     56210 non-null float64\n",
      "max_field_parties     57093 non-null float64\n",
      "field_hours           97024 non-null float64\n",
      "feeder_hours          61910 non-null float64\n",
      "nocturnal_hours       58526 non-null float64\n",
      "field_distance        98802 non-null float64\n",
      "nocturnal_distance    53193 non-null float64\n",
      "distance_units        106597 non-null object\n",
      "min_temp              82436 non-null float64\n",
      "max_temp              82420 non-null float64\n",
      "temp_unit             57026 non-null float64\n",
      "min_wind              80027 non-null float64\n",
      "max_wind              80109 non-null float64\n",
      "wind_unit             57026 non-null float64\n",
      "min_snow              76936 non-null float64\n",
      "max_snow              77165 non-null float64\n",
      "snow_unit             53379 non-null float64\n",
      "am_cloud              82396 non-null float64\n",
      "pm_cloud              82268 non-null float64\n",
      "am_rain               81682 non-null object\n",
      "pm_rain               81582 non-null object\n",
      "am_snow               81484 non-null object\n",
      "pm_snow               81410 non-null object\n",
      "dtypes: float64(22), int64(1), object(8)\n",
      "memory usage: 26.1+ MB\n"
     ]
    }
   ],
   "source": [
    "raw_data.info()"
   ]
  },
  {
   "cell_type": "code",
   "execution_count": 10,
   "metadata": {
    "collapsed": false
   },
   "outputs": [
    {
     "data": {
      "text/html": [
       "<div>\n",
       "<style scoped>\n",
       "    .dataframe tbody tr th:only-of-type {\n",
       "        vertical-align: middle;\n",
       "    }\n",
       "\n",
       "    .dataframe tbody tr th {\n",
       "        vertical-align: top;\n",
       "    }\n",
       "\n",
       "    .dataframe thead th {\n",
       "        text-align: right;\n",
       "    }\n",
       "</style>\n",
       "<table border=\"1\" class=\"dataframe\">\n",
       "  <thead>\n",
       "    <tr style=\"text-align: right;\">\n",
       "      <th></th>\n",
       "      <th>circle_name</th>\n",
       "      <th>country_state</th>\n",
       "      <th>lat</th>\n",
       "      <th>lon</th>\n",
       "      <th>count_year</th>\n",
       "      <th>count_date</th>\n",
       "      <th>n_field_counters</th>\n",
       "      <th>n_feeder_counters</th>\n",
       "      <th>min_field_parties</th>\n",
       "      <th>max_field_parties</th>\n",
       "      <th>...</th>\n",
       "      <th>wind_unit</th>\n",
       "      <th>min_snow</th>\n",
       "      <th>max_snow</th>\n",
       "      <th>snow_unit</th>\n",
       "      <th>am_cloud</th>\n",
       "      <th>pm_cloud</th>\n",
       "      <th>am_rain</th>\n",
       "      <th>pm_rain</th>\n",
       "      <th>am_snow</th>\n",
       "      <th>pm_snow</th>\n",
       "    </tr>\n",
       "  </thead>\n",
       "  <tbody>\n",
       "    <tr>\n",
       "      <th>count</th>\n",
       "      <td>106925</td>\n",
       "      <td>106925</td>\n",
       "      <td>106925.000000</td>\n",
       "      <td>106925.000000</td>\n",
       "      <td>106925.000000</td>\n",
       "      <td>106925</td>\n",
       "      <td>106707.000000</td>\n",
       "      <td>50575.000000</td>\n",
       "      <td>56210.000000</td>\n",
       "      <td>57093.000000</td>\n",
       "      <td>...</td>\n",
       "      <td>57026.000000</td>\n",
       "      <td>76936.000000</td>\n",
       "      <td>77165.000000</td>\n",
       "      <td>53379.000000</td>\n",
       "      <td>82396.000000</td>\n",
       "      <td>82268.000000</td>\n",
       "      <td>81682</td>\n",
       "      <td>81582</td>\n",
       "      <td>81484</td>\n",
       "      <td>81410</td>\n",
       "    </tr>\n",
       "    <tr>\n",
       "      <th>unique</th>\n",
       "      <td>4821</td>\n",
       "      <td>199</td>\n",
       "      <td>NaN</td>\n",
       "      <td>NaN</td>\n",
       "      <td>NaN</td>\n",
       "      <td>1762</td>\n",
       "      <td>NaN</td>\n",
       "      <td>NaN</td>\n",
       "      <td>NaN</td>\n",
       "      <td>NaN</td>\n",
       "      <td>...</td>\n",
       "      <td>NaN</td>\n",
       "      <td>NaN</td>\n",
       "      <td>NaN</td>\n",
       "      <td>NaN</td>\n",
       "      <td>NaN</td>\n",
       "      <td>NaN</td>\n",
       "      <td>13</td>\n",
       "      <td>14</td>\n",
       "      <td>13</td>\n",
       "      <td>13</td>\n",
       "    </tr>\n",
       "    <tr>\n",
       "      <th>top</th>\n",
       "      <td>Springfield</td>\n",
       "      <td>US-CA</td>\n",
       "      <td>NaN</td>\n",
       "      <td>NaN</td>\n",
       "      <td>NaN</td>\n",
       "      <td>2017-12-16</td>\n",
       "      <td>NaN</td>\n",
       "      <td>NaN</td>\n",
       "      <td>NaN</td>\n",
       "      <td>NaN</td>\n",
       "      <td>...</td>\n",
       "      <td>NaN</td>\n",
       "      <td>NaN</td>\n",
       "      <td>NaN</td>\n",
       "      <td>NaN</td>\n",
       "      <td>NaN</td>\n",
       "      <td>NaN</td>\n",
       "      <td>3</td>\n",
       "      <td>3</td>\n",
       "      <td>3</td>\n",
       "      <td>3</td>\n",
       "    </tr>\n",
       "    <tr>\n",
       "      <th>freq</th>\n",
       "      <td>258</td>\n",
       "      <td>5869</td>\n",
       "      <td>NaN</td>\n",
       "      <td>NaN</td>\n",
       "      <td>NaN</td>\n",
       "      <td>669</td>\n",
       "      <td>NaN</td>\n",
       "      <td>NaN</td>\n",
       "      <td>NaN</td>\n",
       "      <td>NaN</td>\n",
       "      <td>...</td>\n",
       "      <td>NaN</td>\n",
       "      <td>NaN</td>\n",
       "      <td>NaN</td>\n",
       "      <td>NaN</td>\n",
       "      <td>NaN</td>\n",
       "      <td>NaN</td>\n",
       "      <td>43250</td>\n",
       "      <td>44083</td>\n",
       "      <td>44380</td>\n",
       "      <td>44891</td>\n",
       "    </tr>\n",
       "    <tr>\n",
       "      <th>mean</th>\n",
       "      <td>NaN</td>\n",
       "      <td>NaN</td>\n",
       "      <td>39.988133</td>\n",
       "      <td>-91.624462</td>\n",
       "      <td>1987.639149</td>\n",
       "      <td>NaN</td>\n",
       "      <td>20.836352</td>\n",
       "      <td>4.657242</td>\n",
       "      <td>8.273261</td>\n",
       "      <td>9.941009</td>\n",
       "      <td>...</td>\n",
       "      <td>1.180900</td>\n",
       "      <td>2.024964</td>\n",
       "      <td>4.493643</td>\n",
       "      <td>2.207160</td>\n",
       "      <td>2.978021</td>\n",
       "      <td>3.243084</td>\n",
       "      <td>NaN</td>\n",
       "      <td>NaN</td>\n",
       "      <td>NaN</td>\n",
       "      <td>NaN</td>\n",
       "    </tr>\n",
       "    <tr>\n",
       "      <th>std</th>\n",
       "      <td>NaN</td>\n",
       "      <td>NaN</td>\n",
       "      <td>7.594241</td>\n",
       "      <td>19.897468</td>\n",
       "      <td>24.865097</td>\n",
       "      <td>NaN</td>\n",
       "      <td>21.376734</td>\n",
       "      <td>15.635358</td>\n",
       "      <td>7.591907</td>\n",
       "      <td>9.100070</td>\n",
       "      <td>...</td>\n",
       "      <td>0.638249</td>\n",
       "      <td>5.576817</td>\n",
       "      <td>11.105600</td>\n",
       "      <td>0.609436</td>\n",
       "      <td>2.016466</td>\n",
       "      <td>2.136045</td>\n",
       "      <td>NaN</td>\n",
       "      <td>NaN</td>\n",
       "      <td>NaN</td>\n",
       "      <td>NaN</td>\n",
       "    </tr>\n",
       "    <tr>\n",
       "      <th>min</th>\n",
       "      <td>NaN</td>\n",
       "      <td>NaN</td>\n",
       "      <td>-77.461409</td>\n",
       "      <td>-177.380631</td>\n",
       "      <td>1901.000000</td>\n",
       "      <td>NaN</td>\n",
       "      <td>0.000000</td>\n",
       "      <td>0.000000</td>\n",
       "      <td>0.000000</td>\n",
       "      <td>0.000000</td>\n",
       "      <td>...</td>\n",
       "      <td>0.000000</td>\n",
       "      <td>0.000000</td>\n",
       "      <td>0.000000</td>\n",
       "      <td>2.000000</td>\n",
       "      <td>1.000000</td>\n",
       "      <td>1.000000</td>\n",
       "      <td>NaN</td>\n",
       "      <td>NaN</td>\n",
       "      <td>NaN</td>\n",
       "      <td>NaN</td>\n",
       "    </tr>\n",
       "    <tr>\n",
       "      <th>25%</th>\n",
       "      <td>NaN</td>\n",
       "      <td>NaN</td>\n",
       "      <td>36.500018</td>\n",
       "      <td>-102.483303</td>\n",
       "      <td>1975.000000</td>\n",
       "      <td>NaN</td>\n",
       "      <td>8.000000</td>\n",
       "      <td>0.000000</td>\n",
       "      <td>4.000000</td>\n",
       "      <td>5.000000</td>\n",
       "      <td>...</td>\n",
       "      <td>1.000000</td>\n",
       "      <td>0.000000</td>\n",
       "      <td>0.000000</td>\n",
       "      <td>2.000000</td>\n",
       "      <td>1.000000</td>\n",
       "      <td>1.000000</td>\n",
       "      <td>NaN</td>\n",
       "      <td>NaN</td>\n",
       "      <td>NaN</td>\n",
       "      <td>NaN</td>\n",
       "    </tr>\n",
       "    <tr>\n",
       "      <th>50%</th>\n",
       "      <td>NaN</td>\n",
       "      <td>NaN</td>\n",
       "      <td>40.816675</td>\n",
       "      <td>-88.024596</td>\n",
       "      <td>1993.000000</td>\n",
       "      <td>NaN</td>\n",
       "      <td>15.000000</td>\n",
       "      <td>1.000000</td>\n",
       "      <td>6.000000</td>\n",
       "      <td>8.000000</td>\n",
       "      <td>...</td>\n",
       "      <td>1.000000</td>\n",
       "      <td>0.000000</td>\n",
       "      <td>0.000000</td>\n",
       "      <td>2.000000</td>\n",
       "      <td>2.000000</td>\n",
       "      <td>2.000000</td>\n",
       "      <td>NaN</td>\n",
       "      <td>NaN</td>\n",
       "      <td>NaN</td>\n",
       "      <td>NaN</td>\n",
       "    </tr>\n",
       "    <tr>\n",
       "      <th>75%</th>\n",
       "      <td>NaN</td>\n",
       "      <td>NaN</td>\n",
       "      <td>44.076819</td>\n",
       "      <td>-78.550000</td>\n",
       "      <td>2007.000000</td>\n",
       "      <td>NaN</td>\n",
       "      <td>27.000000</td>\n",
       "      <td>5.000000</td>\n",
       "      <td>10.000000</td>\n",
       "      <td>12.000000</td>\n",
       "      <td>...</td>\n",
       "      <td>1.000000</td>\n",
       "      <td>2.000000</td>\n",
       "      <td>5.000000</td>\n",
       "      <td>2.000000</td>\n",
       "      <td>5.000000</td>\n",
       "      <td>6.000000</td>\n",
       "      <td>NaN</td>\n",
       "      <td>NaN</td>\n",
       "      <td>NaN</td>\n",
       "      <td>NaN</td>\n",
       "    </tr>\n",
       "    <tr>\n",
       "      <th>max</th>\n",
       "      <td>NaN</td>\n",
       "      <td>NaN</td>\n",
       "      <td>74.716700</td>\n",
       "      <td>179.284881</td>\n",
       "      <td>2018.000000</td>\n",
       "      <td>NaN</td>\n",
       "      <td>501.000000</td>\n",
       "      <td>968.000000</td>\n",
       "      <td>150.000000</td>\n",
       "      <td>322.000000</td>\n",
       "      <td>...</td>\n",
       "      <td>3.000000</td>\n",
       "      <td>600.000000</td>\n",
       "      <td>900.000000</td>\n",
       "      <td>4.000000</td>\n",
       "      <td>7.000000</td>\n",
       "      <td>7.000000</td>\n",
       "      <td>NaN</td>\n",
       "      <td>NaN</td>\n",
       "      <td>NaN</td>\n",
       "      <td>NaN</td>\n",
       "    </tr>\n",
       "  </tbody>\n",
       "</table>\n",
       "<p>11 rows × 31 columns</p>\n",
       "</div>"
      ],
      "text/plain": [
       "        circle_name country_state            lat            lon  \\\n",
       "count        106925        106925  106925.000000  106925.000000   \n",
       "unique         4821           199            NaN            NaN   \n",
       "top     Springfield         US-CA            NaN            NaN   \n",
       "freq            258          5869            NaN            NaN   \n",
       "mean            NaN           NaN      39.988133     -91.624462   \n",
       "std             NaN           NaN       7.594241      19.897468   \n",
       "min             NaN           NaN     -77.461409    -177.380631   \n",
       "25%             NaN           NaN      36.500018    -102.483303   \n",
       "50%             NaN           NaN      40.816675     -88.024596   \n",
       "75%             NaN           NaN      44.076819     -78.550000   \n",
       "max             NaN           NaN      74.716700     179.284881   \n",
       "\n",
       "           count_year  count_date  n_field_counters  n_feeder_counters  \\\n",
       "count   106925.000000      106925     106707.000000       50575.000000   \n",
       "unique            NaN        1762               NaN                NaN   \n",
       "top               NaN  2017-12-16               NaN                NaN   \n",
       "freq              NaN         669               NaN                NaN   \n",
       "mean      1987.639149         NaN         20.836352           4.657242   \n",
       "std         24.865097         NaN         21.376734          15.635358   \n",
       "min       1901.000000         NaN          0.000000           0.000000   \n",
       "25%       1975.000000         NaN          8.000000           0.000000   \n",
       "50%       1993.000000         NaN         15.000000           1.000000   \n",
       "75%       2007.000000         NaN         27.000000           5.000000   \n",
       "max       2018.000000         NaN        501.000000         968.000000   \n",
       "\n",
       "        min_field_parties  max_field_parties  ...     wind_unit      min_snow  \\\n",
       "count        56210.000000       57093.000000  ...  57026.000000  76936.000000   \n",
       "unique                NaN                NaN  ...           NaN           NaN   \n",
       "top                   NaN                NaN  ...           NaN           NaN   \n",
       "freq                  NaN                NaN  ...           NaN           NaN   \n",
       "mean             8.273261           9.941009  ...      1.180900      2.024964   \n",
       "std              7.591907           9.100070  ...      0.638249      5.576817   \n",
       "min              0.000000           0.000000  ...      0.000000      0.000000   \n",
       "25%              4.000000           5.000000  ...      1.000000      0.000000   \n",
       "50%              6.000000           8.000000  ...      1.000000      0.000000   \n",
       "75%             10.000000          12.000000  ...      1.000000      2.000000   \n",
       "max            150.000000         322.000000  ...      3.000000    600.000000   \n",
       "\n",
       "            max_snow     snow_unit      am_cloud      pm_cloud  am_rain  \\\n",
       "count   77165.000000  53379.000000  82396.000000  82268.000000    81682   \n",
       "unique           NaN           NaN           NaN           NaN       13   \n",
       "top              NaN           NaN           NaN           NaN        3   \n",
       "freq             NaN           NaN           NaN           NaN    43250   \n",
       "mean        4.493643      2.207160      2.978021      3.243084      NaN   \n",
       "std        11.105600      0.609436      2.016466      2.136045      NaN   \n",
       "min         0.000000      2.000000      1.000000      1.000000      NaN   \n",
       "25%         0.000000      2.000000      1.000000      1.000000      NaN   \n",
       "50%         0.000000      2.000000      2.000000      2.000000      NaN   \n",
       "75%         5.000000      2.000000      5.000000      6.000000      NaN   \n",
       "max       900.000000      4.000000      7.000000      7.000000      NaN   \n",
       "\n",
       "        pm_rain  am_snow  pm_snow  \n",
       "count     81582    81484    81410  \n",
       "unique       14       13       13  \n",
       "top           3        3        3  \n",
       "freq      44083    44380    44891  \n",
       "mean        NaN      NaN      NaN  \n",
       "std         NaN      NaN      NaN  \n",
       "min         NaN      NaN      NaN  \n",
       "25%         NaN      NaN      NaN  \n",
       "50%         NaN      NaN      NaN  \n",
       "75%         NaN      NaN      NaN  \n",
       "max         NaN      NaN      NaN  \n",
       "\n",
       "[11 rows x 31 columns]"
      ]
     },
     "execution_count": 10,
     "metadata": {},
     "output_type": "execute_result"
    }
   ],
   "source": [
    "raw_data.describe(include = 'all')"
   ]
  },
  {
   "cell_type": "code",
   "execution_count": 11,
   "metadata": {},
   "outputs": [
    {
     "data": {
      "text/plain": [
       "circle_name               0\n",
       "country_state             0\n",
       "lat                       0\n",
       "lon                       0\n",
       "count_year                0\n",
       "count_date                0\n",
       "n_field_counters        218\n",
       "n_feeder_counters     56350\n",
       "min_field_parties     50715\n",
       "max_field_parties     49832\n",
       "field_hours            9901\n",
       "feeder_hours          45015\n",
       "nocturnal_hours       48399\n",
       "field_distance         8123\n",
       "nocturnal_distance    53732\n",
       "distance_units          328\n",
       "min_temp              24489\n",
       "max_temp              24505\n",
       "temp_unit             49899\n",
       "min_wind              26898\n",
       "max_wind              26816\n",
       "wind_unit             49899\n",
       "min_snow              29989\n",
       "max_snow              29760\n",
       "snow_unit             53546\n",
       "am_cloud              24529\n",
       "pm_cloud              24657\n",
       "am_rain               25243\n",
       "pm_rain               25343\n",
       "am_snow               25441\n",
       "pm_snow               25515\n",
       "dtype: int64"
      ]
     },
     "execution_count": 11,
     "metadata": {},
     "output_type": "execute_result"
    }
   ],
   "source": [
    "raw_data.isnull().sum()"
   ]
  },
  {
   "cell_type": "code",
   "execution_count": 12,
   "metadata": {
    "collapsed": false
   },
   "outputs": [
    {
     "data": {
      "text/html": [
       "<div>\n",
       "<style scoped>\n",
       "    .dataframe tbody tr th:only-of-type {\n",
       "        vertical-align: middle;\n",
       "    }\n",
       "\n",
       "    .dataframe tbody tr th {\n",
       "        vertical-align: top;\n",
       "    }\n",
       "\n",
       "    .dataframe thead th {\n",
       "        text-align: right;\n",
       "    }\n",
       "</style>\n",
       "<table border=\"1\" class=\"dataframe\">\n",
       "  <thead>\n",
       "    <tr style=\"text-align: right;\">\n",
       "      <th></th>\n",
       "      <th>0</th>\n",
       "    </tr>\n",
       "  </thead>\n",
       "  <tbody>\n",
       "    <tr>\n",
       "      <th>n_feeder_counters</th>\n",
       "      <td>52.700491</td>\n",
       "    </tr>\n",
       "    <tr>\n",
       "      <th>nocturnal_distance</th>\n",
       "      <td>50.252046</td>\n",
       "    </tr>\n",
       "    <tr>\n",
       "      <th>snow_unit</th>\n",
       "      <td>50.078092</td>\n",
       "    </tr>\n",
       "    <tr>\n",
       "      <th>min_field_parties</th>\n",
       "      <td>47.430442</td>\n",
       "    </tr>\n",
       "    <tr>\n",
       "      <th>wind_unit</th>\n",
       "      <td>46.667290</td>\n",
       "    </tr>\n",
       "    <tr>\n",
       "      <th>temp_unit</th>\n",
       "      <td>46.667290</td>\n",
       "    </tr>\n",
       "    <tr>\n",
       "      <th>max_field_parties</th>\n",
       "      <td>46.604629</td>\n",
       "    </tr>\n",
       "    <tr>\n",
       "      <th>nocturnal_hours</th>\n",
       "      <td>45.264438</td>\n",
       "    </tr>\n",
       "    <tr>\n",
       "      <th>feeder_hours</th>\n",
       "      <td>42.099603</td>\n",
       "    </tr>\n",
       "    <tr>\n",
       "      <th>min_snow</th>\n",
       "      <td>28.046762</td>\n",
       "    </tr>\n",
       "    <tr>\n",
       "      <th>max_snow</th>\n",
       "      <td>27.832593</td>\n",
       "    </tr>\n",
       "    <tr>\n",
       "      <th>min_wind</th>\n",
       "      <td>25.155950</td>\n",
       "    </tr>\n",
       "    <tr>\n",
       "      <th>max_wind</th>\n",
       "      <td>25.079261</td>\n",
       "    </tr>\n",
       "    <tr>\n",
       "      <th>pm_snow</th>\n",
       "      <td>23.862520</td>\n",
       "    </tr>\n",
       "    <tr>\n",
       "      <th>am_snow</th>\n",
       "      <td>23.793313</td>\n",
       "    </tr>\n",
       "    <tr>\n",
       "      <th>pm_rain</th>\n",
       "      <td>23.701660</td>\n",
       "    </tr>\n",
       "    <tr>\n",
       "      <th>am_rain</th>\n",
       "      <td>23.608137</td>\n",
       "    </tr>\n",
       "    <tr>\n",
       "      <th>pm_cloud</th>\n",
       "      <td>23.060089</td>\n",
       "    </tr>\n",
       "    <tr>\n",
       "      <th>am_cloud</th>\n",
       "      <td>22.940379</td>\n",
       "    </tr>\n",
       "    <tr>\n",
       "      <th>max_temp</th>\n",
       "      <td>22.917933</td>\n",
       "    </tr>\n",
       "    <tr>\n",
       "      <th>min_temp</th>\n",
       "      <td>22.902969</td>\n",
       "    </tr>\n",
       "    <tr>\n",
       "      <th>field_hours</th>\n",
       "      <td>9.259762</td>\n",
       "    </tr>\n",
       "    <tr>\n",
       "      <th>field_distance</th>\n",
       "      <td>7.596914</td>\n",
       "    </tr>\n",
       "    <tr>\n",
       "      <th>distance_units</th>\n",
       "      <td>0.306757</td>\n",
       "    </tr>\n",
       "    <tr>\n",
       "      <th>n_field_counters</th>\n",
       "      <td>0.203881</td>\n",
       "    </tr>\n",
       "    <tr>\n",
       "      <th>country_state</th>\n",
       "      <td>0.000000</td>\n",
       "    </tr>\n",
       "    <tr>\n",
       "      <th>count_date</th>\n",
       "      <td>0.000000</td>\n",
       "    </tr>\n",
       "    <tr>\n",
       "      <th>count_year</th>\n",
       "      <td>0.000000</td>\n",
       "    </tr>\n",
       "    <tr>\n",
       "      <th>lon</th>\n",
       "      <td>0.000000</td>\n",
       "    </tr>\n",
       "    <tr>\n",
       "      <th>lat</th>\n",
       "      <td>0.000000</td>\n",
       "    </tr>\n",
       "    <tr>\n",
       "      <th>circle_name</th>\n",
       "      <td>0.000000</td>\n",
       "    </tr>\n",
       "  </tbody>\n",
       "</table>\n",
       "</div>"
      ],
      "text/plain": [
       "                            0\n",
       "n_feeder_counters   52.700491\n",
       "nocturnal_distance  50.252046\n",
       "snow_unit           50.078092\n",
       "min_field_parties   47.430442\n",
       "wind_unit           46.667290\n",
       "temp_unit           46.667290\n",
       "max_field_parties   46.604629\n",
       "nocturnal_hours     45.264438\n",
       "feeder_hours        42.099603\n",
       "min_snow            28.046762\n",
       "max_snow            27.832593\n",
       "min_wind            25.155950\n",
       "max_wind            25.079261\n",
       "pm_snow             23.862520\n",
       "am_snow             23.793313\n",
       "pm_rain             23.701660\n",
       "am_rain             23.608137\n",
       "pm_cloud            23.060089\n",
       "am_cloud            22.940379\n",
       "max_temp            22.917933\n",
       "min_temp            22.902969\n",
       "field_hours          9.259762\n",
       "field_distance       7.596914\n",
       "distance_units       0.306757\n",
       "n_field_counters     0.203881\n",
       "country_state        0.000000\n",
       "count_date           0.000000\n",
       "count_year           0.000000\n",
       "lon                  0.000000\n",
       "lat                  0.000000\n",
       "circle_name          0.000000"
      ]
     },
     "execution_count": 12,
     "metadata": {},
     "output_type": "execute_result"
    }
   ],
   "source": [
    "#What percentage are null\n",
    "pd.DataFrame((raw_data.isnull().sum())/len(raw_data) * 100).sort_values(by = 0, ascending = False)"
   ]
  },
  {
   "cell_type": "code",
   "execution_count": 13,
   "metadata": {
    "collapsed": false
   },
   "outputs": [
    {
     "data": {
      "text/plain": [
       "count_year              int64\n",
       "nocturnal_hours       float64\n",
       "max_snow              float64\n",
       "min_snow              float64\n",
       "wind_unit             float64\n",
       "max_wind              float64\n",
       "min_wind              float64\n",
       "temp_unit             float64\n",
       "max_temp              float64\n",
       "min_temp              float64\n",
       "pm_cloud              float64\n",
       "nocturnal_distance    float64\n",
       "field_distance        float64\n",
       "am_cloud              float64\n",
       "feeder_hours          float64\n",
       "field_hours           float64\n",
       "max_field_parties     float64\n",
       "min_field_parties     float64\n",
       "n_feeder_counters     float64\n",
       "n_field_counters      float64\n",
       "lon                   float64\n",
       "lat                   float64\n",
       "snow_unit             float64\n",
       "am_rain                object\n",
       "pm_rain                object\n",
       "circle_name            object\n",
       "distance_units         object\n",
       "count_date             object\n",
       "country_state          object\n",
       "am_snow                object\n",
       "pm_snow                object\n",
       "dtype: object"
      ]
     },
     "execution_count": 13,
     "metadata": {},
     "output_type": "execute_result"
    }
   ],
   "source": [
    "#What type are the different variables\n",
    "raw_data.dtypes.sort_values()"
   ]
  },
  {
   "cell_type": "markdown",
   "metadata": {},
   "source": [
    "__N Field Counters__"
   ]
  },
  {
   "cell_type": "code",
   "execution_count": 14,
   "metadata": {
    "collapsed": false
   },
   "outputs": [
    {
     "data": {
      "text/plain": [
       "count    106707.000000\n",
       "mean         20.836352\n",
       "std          21.376734\n",
       "min           0.000000\n",
       "25%           8.000000\n",
       "50%          15.000000\n",
       "75%          27.000000\n",
       "max         501.000000\n",
       "Name: n_field_counters, dtype: float64"
      ]
     },
     "execution_count": 14,
     "metadata": {},
     "output_type": "execute_result"
    }
   ],
   "source": [
    "raw_data['n_field_counters'].describe()"
   ]
  },
  {
   "cell_type": "code",
   "execution_count": 15,
   "metadata": {
    "collapsed": false
   },
   "outputs": [
    {
     "data": {
      "text/plain": [
       "0.2038812251578209"
      ]
     },
     "execution_count": 15,
     "metadata": {},
     "output_type": "execute_result"
    }
   ],
   "source": [
    "(raw_data['n_field_counters'].isnull().sum()) / len(raw_data) * 100"
   ]
  },
  {
   "cell_type": "code",
   "execution_count": 16,
   "metadata": {
    "collapsed": false
   },
   "outputs": [
    {
     "data": {
      "image/png": "[encoded data removed]",
      "text/plain": [
       "<Figure size 432x288 with 1 Axes>"
      ]
     },
     "metadata": {
      "needs_background": "light"
     },
     "output_type": "display_data"
    }
   ],
   "source": [
    "raw_data['n_field_counters'].hist(bins = 50);"
   ]
  },
  {
   "cell_type": "code",
   "execution_count": 17,
   "metadata": {
    "collapsed": false
   },
   "outputs": [
    {
     "data": {
      "text/plain": [
       "0.9857096095393968"
      ]
     },
     "execution_count": 17,
     "metadata": {},
     "output_type": "execute_result"
    }
   ],
   "source": [
    "raw_data.loc[raw_data['n_field_counters'] < 100].shape[0] / len(raw_data)"
   ]
  },
  {
   "cell_type": "markdown",
   "metadata": {},
   "source": [
    "__Count Year__"
   ]
  },
  {
   "cell_type": "code",
   "execution_count": 18,
   "metadata": {
    "collapsed": false
   },
   "outputs": [
    {
     "data": {
      "text/plain": [
       "count    106925.000000\n",
       "mean       1987.639149\n",
       "std          24.865097\n",
       "min        1901.000000\n",
       "25%        1975.000000\n",
       "50%        1993.000000\n",
       "75%        2007.000000\n",
       "max        2018.000000\n",
       "Name: count_year, dtype: float64"
      ]
     },
     "execution_count": 18,
     "metadata": {},
     "output_type": "execute_result"
    }
   ],
   "source": [
    "raw_data['count_year'].describe()"
   ]
  },
  {
   "cell_type": "code",
   "execution_count": 19,
   "metadata": {
    "collapsed": false
   },
   "outputs": [
    {
     "data": {
      "text/plain": [
       "0.0"
      ]
     },
     "execution_count": 19,
     "metadata": {},
     "output_type": "execute_result"
    }
   ],
   "source": [
    "(raw_data['count_year'].isnull().sum())/len(raw_data) * 100"
   ]
  },
  {
   "cell_type": "code",
   "execution_count": 20,
   "metadata": {},
   "outputs": [
    {
     "data": {
      "text/plain": [
       "circle_name           (Horton) Four Rivers\n",
       "country_state                          AQ-\n",
       "lat                               -77.4614\n",
       "lon                               -177.381\n",
       "count_year                            1901\n",
       "count_date                      1900-12-25\n",
       "n_field_counters                         0\n",
       "n_feeder_counters                        0\n",
       "min_field_parties                        0\n",
       "max_field_parties                        0\n",
       "field_hours                              0\n",
       "feeder_hours                           -56\n",
       "nocturnal_hours                          0\n",
       "field_distance                           0\n",
       "nocturnal_distance                       0\n",
       "min_temp                              -340\n",
       "max_temp                              -200\n",
       "temp_unit                                1\n",
       "min_wind                               -16\n",
       "max_wind                                 0\n",
       "wind_unit                                0\n",
       "min_snow                                 0\n",
       "max_snow                                 0\n",
       "snow_unit                                2\n",
       "am_cloud                                 1\n",
       "pm_cloud                                 1\n",
       "dtype: object"
      ]
     },
     "execution_count": 20,
     "metadata": {},
     "output_type": "execute_result"
    }
   ],
   "source": [
    "raw_data.min()"
   ]
  },
  {
   "cell_type": "code",
   "execution_count": 21,
   "metadata": {},
   "outputs": [
    {
     "data": {
      "text/plain": [
       "circle_name           Îles-de-la-Madeleine\n",
       "country_state                        us-wi\n",
       "lat                                74.7167\n",
       "lon                                179.285\n",
       "count_year                            2018\n",
       "count_date                      2018-01-05\n",
       "n_field_counters                       501\n",
       "n_feeder_counters                      968\n",
       "min_field_parties                      150\n",
       "max_field_parties                      322\n",
       "field_hours                           4407\n",
       "feeder_hours                          6105\n",
       "nocturnal_hours                       1105\n",
       "field_distance                       61087\n",
       "nocturnal_distance                   33080\n",
       "min_temp                             24996\n",
       "max_temp                             28909\n",
       "temp_unit                                2\n",
       "min_wind                                99\n",
       "max_wind                               500\n",
       "wind_unit                                3\n",
       "min_snow                               600\n",
       "max_snow                               900\n",
       "snow_unit                                4\n",
       "am_cloud                                 7\n",
       "pm_cloud                                 7\n",
       "dtype: object"
      ]
     },
     "execution_count": 21,
     "metadata": {},
     "output_type": "execute_result"
    }
   ],
   "source": [
    "raw_data.max()"
   ]
  },
  {
   "cell_type": "markdown",
   "metadata": {},
   "source": [
    "# Make a new dataframe named df that we will use to start adding column."
   ]
  },
  {
   "cell_type": "code",
   "execution_count": 22,
   "metadata": {},
   "outputs": [],
   "source": [
    "df = raw_data"
   ]
  },
  {
   "cell_type": "markdown",
   "metadata": {},
   "source": [
    "# Conversions\n",
    "Will make two columns.\n",
    "\n",
    "One for metric (SI) and one for imperial."
   ]
  },
  {
   "cell_type": "markdown",
   "metadata": {},
   "source": [
    "## Convert distances to US miles\n",
    "key = distance_units\n",
    "\n",
    "miles = 1\n",
    "inches = 2\n",
    "kilometers = 3\n",
    "centimeters = 4"
   ]
  },
  {
   "cell_type": "code",
   "execution_count": 23,
   "metadata": {},
   "outputs": [],
   "source": [
    "distance_cols = ['field_distance', 'nocturnal_distance']"
   ]
  },
  {
   "cell_type": "code",
   "execution_count": 24,
   "metadata": {},
   "outputs": [
    {
     "data": {
      "text/plain": [
       "Miles         99863\n",
       "Kilometers     6734\n",
       "Name: distance_units, dtype: int64"
      ]
     },
     "execution_count": 24,
     "metadata": {},
     "output_type": "execute_result"
    }
   ],
   "source": [
    "df.distance_units.value_counts()"
   ]
  },
  {
   "cell_type": "code",
   "execution_count": 25,
   "metadata": {},
   "outputs": [],
   "source": [
    "df['field_distance_imperial'] = np.where(df['distance_units']=='Miles', df['field_distance'], (df['field_distance'] / .6214))\n",
    "df['field_distance_metric'] = np.where(df['distance_units']=='Kilometers', df['field_distance'], (df['field_distance'] * .6214))\n",
    "df['nocturnal_distance_imperial'] = np.where(df['distance_units']=='Miles', df['nocturnal_distance'], (df['nocturnal_distance'] / .6214))\n",
    "df['nocturnal_distance_metric'] = np.where(df['distance_units']=='Kilometers', df['nocturnal_distance'], (df['nocturnal_distance'] * .6214))"
   ]
  },
  {
   "cell_type": "code",
   "execution_count": 26,
   "metadata": {},
   "outputs": [
    {
     "data": {
      "text/html": [
       "<div>\n",
       "<style scoped>\n",
       "    .dataframe tbody tr th:only-of-type {\n",
       "        vertical-align: middle;\n",
       "    }\n",
       "\n",
       "    .dataframe tbody tr th {\n",
       "        vertical-align: top;\n",
       "    }\n",
       "\n",
       "    .dataframe thead th {\n",
       "        text-align: right;\n",
       "    }\n",
       "</style>\n",
       "<table border=\"1\" class=\"dataframe\">\n",
       "  <thead>\n",
       "    <tr style=\"text-align: right;\">\n",
       "      <th></th>\n",
       "      <th>circle_name</th>\n",
       "      <th>country_state</th>\n",
       "      <th>lat</th>\n",
       "      <th>lon</th>\n",
       "      <th>count_year</th>\n",
       "      <th>count_date</th>\n",
       "      <th>n_field_counters</th>\n",
       "      <th>n_feeder_counters</th>\n",
       "      <th>min_field_parties</th>\n",
       "      <th>max_field_parties</th>\n",
       "      <th>...</th>\n",
       "      <th>am_cloud</th>\n",
       "      <th>pm_cloud</th>\n",
       "      <th>am_rain</th>\n",
       "      <th>pm_rain</th>\n",
       "      <th>am_snow</th>\n",
       "      <th>pm_snow</th>\n",
       "      <th>field_distance_imperial</th>\n",
       "      <th>field_distance_metric</th>\n",
       "      <th>nocturnal_distance_imperial</th>\n",
       "      <th>nocturnal_distance_metric</th>\n",
       "    </tr>\n",
       "  </thead>\n",
       "  <tbody>\n",
       "    <tr>\n",
       "      <th>0</th>\n",
       "      <td>Scotch Lake</td>\n",
       "      <td>CA-NB</td>\n",
       "      <td>45.950000</td>\n",
       "      <td>-66.983300</td>\n",
       "      <td>1901</td>\n",
       "      <td>1900-12-25</td>\n",
       "      <td>1.0</td>\n",
       "      <td>NaN</td>\n",
       "      <td>NaN</td>\n",
       "      <td>NaN</td>\n",
       "      <td>...</td>\n",
       "      <td>NaN</td>\n",
       "      <td>NaN</td>\n",
       "      <td>NaN</td>\n",
       "      <td>NaN</td>\n",
       "      <td>NaN</td>\n",
       "      <td>NaN</td>\n",
       "      <td>NaN</td>\n",
       "      <td>NaN</td>\n",
       "      <td>NaN</td>\n",
       "      <td>NaN</td>\n",
       "    </tr>\n",
       "    <tr>\n",
       "      <th>1</th>\n",
       "      <td>Toronto</td>\n",
       "      <td>CA-ON</td>\n",
       "      <td>43.700000</td>\n",
       "      <td>-79.416700</td>\n",
       "      <td>1901</td>\n",
       "      <td>1900-12-25</td>\n",
       "      <td>1.0</td>\n",
       "      <td>NaN</td>\n",
       "      <td>NaN</td>\n",
       "      <td>NaN</td>\n",
       "      <td>...</td>\n",
       "      <td>NaN</td>\n",
       "      <td>NaN</td>\n",
       "      <td>NaN</td>\n",
       "      <td>NaN</td>\n",
       "      <td>NaN</td>\n",
       "      <td>NaN</td>\n",
       "      <td>NaN</td>\n",
       "      <td>NaN</td>\n",
       "      <td>NaN</td>\n",
       "      <td>NaN</td>\n",
       "    </tr>\n",
       "    <tr>\n",
       "      <th>2</th>\n",
       "      <td>Pacific Grove</td>\n",
       "      <td>US-CA</td>\n",
       "      <td>36.616700</td>\n",
       "      <td>-121.916700</td>\n",
       "      <td>1901</td>\n",
       "      <td>1900-12-25</td>\n",
       "      <td>1.0</td>\n",
       "      <td>NaN</td>\n",
       "      <td>NaN</td>\n",
       "      <td>NaN</td>\n",
       "      <td>...</td>\n",
       "      <td>NaN</td>\n",
       "      <td>NaN</td>\n",
       "      <td>NaN</td>\n",
       "      <td>NaN</td>\n",
       "      <td>NaN</td>\n",
       "      <td>NaN</td>\n",
       "      <td>NaN</td>\n",
       "      <td>NaN</td>\n",
       "      <td>NaN</td>\n",
       "      <td>NaN</td>\n",
       "    </tr>\n",
       "    <tr>\n",
       "      <th>3</th>\n",
       "      <td>Pueblo</td>\n",
       "      <td>US-CO</td>\n",
       "      <td>38.175251</td>\n",
       "      <td>-104.519575</td>\n",
       "      <td>1901</td>\n",
       "      <td>1900-12-25</td>\n",
       "      <td>1.0</td>\n",
       "      <td>NaN</td>\n",
       "      <td>NaN</td>\n",
       "      <td>NaN</td>\n",
       "      <td>...</td>\n",
       "      <td>NaN</td>\n",
       "      <td>NaN</td>\n",
       "      <td>NaN</td>\n",
       "      <td>NaN</td>\n",
       "      <td>NaN</td>\n",
       "      <td>NaN</td>\n",
       "      <td>NaN</td>\n",
       "      <td>NaN</td>\n",
       "      <td>NaN</td>\n",
       "      <td>NaN</td>\n",
       "    </tr>\n",
       "    <tr>\n",
       "      <th>4</th>\n",
       "      <td>Bristol</td>\n",
       "      <td>US-CT</td>\n",
       "      <td>41.671800</td>\n",
       "      <td>-72.949500</td>\n",
       "      <td>1901</td>\n",
       "      <td>1900-12-25</td>\n",
       "      <td>2.0</td>\n",
       "      <td>NaN</td>\n",
       "      <td>NaN</td>\n",
       "      <td>NaN</td>\n",
       "      <td>...</td>\n",
       "      <td>NaN</td>\n",
       "      <td>NaN</td>\n",
       "      <td>NaN</td>\n",
       "      <td>NaN</td>\n",
       "      <td>NaN</td>\n",
       "      <td>NaN</td>\n",
       "      <td>NaN</td>\n",
       "      <td>NaN</td>\n",
       "      <td>NaN</td>\n",
       "      <td>NaN</td>\n",
       "    </tr>\n",
       "  </tbody>\n",
       "</table>\n",
       "<p>5 rows × 35 columns</p>\n",
       "</div>"
      ],
      "text/plain": [
       "     circle_name country_state        lat         lon  count_year  count_date  \\\n",
       "0    Scotch Lake         CA-NB  45.950000  -66.983300        1901  1900-12-25   \n",
       "1        Toronto         CA-ON  43.700000  -79.416700        1901  1900-12-25   \n",
       "2  Pacific Grove         US-CA  36.616700 -121.916700        1901  1900-12-25   \n",
       "3         Pueblo         US-CO  38.175251 -104.519575        1901  1900-12-25   \n",
       "4        Bristol         US-CT  41.671800  -72.949500        1901  1900-12-25   \n",
       "\n",
       "   n_field_counters  n_feeder_counters  min_field_parties  max_field_parties  \\\n",
       "0               1.0                NaN                NaN                NaN   \n",
       "1               1.0                NaN                NaN                NaN   \n",
       "2               1.0                NaN                NaN                NaN   \n",
       "3               1.0                NaN                NaN                NaN   \n",
       "4               2.0                NaN                NaN                NaN   \n",
       "\n",
       "   ...  am_cloud  pm_cloud  am_rain  pm_rain  am_snow pm_snow  \\\n",
       "0  ...       NaN       NaN      NaN      NaN      NaN     NaN   \n",
       "1  ...       NaN       NaN      NaN      NaN      NaN     NaN   \n",
       "2  ...       NaN       NaN      NaN      NaN      NaN     NaN   \n",
       "3  ...       NaN       NaN      NaN      NaN      NaN     NaN   \n",
       "4  ...       NaN       NaN      NaN      NaN      NaN     NaN   \n",
       "\n",
       "   field_distance_imperial  field_distance_metric  \\\n",
       "0                      NaN                    NaN   \n",
       "1                      NaN                    NaN   \n",
       "2                      NaN                    NaN   \n",
       "3                      NaN                    NaN   \n",
       "4                      NaN                    NaN   \n",
       "\n",
       "   nocturnal_distance_imperial  nocturnal_distance_metric  \n",
       "0                          NaN                        NaN  \n",
       "1                          NaN                        NaN  \n",
       "2                          NaN                        NaN  \n",
       "3                          NaN                        NaN  \n",
       "4                          NaN                        NaN  \n",
       "\n",
       "[5 rows x 35 columns]"
      ]
     },
     "execution_count": 26,
     "metadata": {},
     "output_type": "execute_result"
    }
   ],
   "source": [
    "df.head()"
   ]
  },
  {
   "cell_type": "code",
   "execution_count": 27,
   "metadata": {},
   "outputs": [
    {
     "data": {
      "text/html": [
       "<div>\n",
       "<style scoped>\n",
       "    .dataframe tbody tr th:only-of-type {\n",
       "        vertical-align: middle;\n",
       "    }\n",
       "\n",
       "    .dataframe tbody tr th {\n",
       "        vertical-align: top;\n",
       "    }\n",
       "\n",
       "    .dataframe thead th {\n",
       "        text-align: right;\n",
       "    }\n",
       "</style>\n",
       "<table border=\"1\" class=\"dataframe\">\n",
       "  <thead>\n",
       "    <tr style=\"text-align: right;\">\n",
       "      <th></th>\n",
       "      <th>circle_name</th>\n",
       "      <th>country_state</th>\n",
       "      <th>lat</th>\n",
       "      <th>lon</th>\n",
       "      <th>count_year</th>\n",
       "      <th>count_date</th>\n",
       "      <th>n_field_counters</th>\n",
       "      <th>n_feeder_counters</th>\n",
       "      <th>min_field_parties</th>\n",
       "      <th>max_field_parties</th>\n",
       "      <th>...</th>\n",
       "      <th>am_cloud</th>\n",
       "      <th>pm_cloud</th>\n",
       "      <th>am_rain</th>\n",
       "      <th>pm_rain</th>\n",
       "      <th>am_snow</th>\n",
       "      <th>pm_snow</th>\n",
       "      <th>field_distance_imperial</th>\n",
       "      <th>field_distance_metric</th>\n",
       "      <th>nocturnal_distance_imperial</th>\n",
       "      <th>nocturnal_distance_metric</th>\n",
       "    </tr>\n",
       "  </thead>\n",
       "  <tbody>\n",
       "    <tr>\n",
       "      <th>106924</th>\n",
       "      <td>Sundance</td>\n",
       "      <td>US-WY</td>\n",
       "      <td>44.208072</td>\n",
       "      <td>-104.227101</td>\n",
       "      <td>2018</td>\n",
       "      <td>2017-12-30</td>\n",
       "      <td>4.0</td>\n",
       "      <td>12.0</td>\n",
       "      <td>3.0</td>\n",
       "      <td>3.0</td>\n",
       "      <td>...</td>\n",
       "      <td>6.0</td>\n",
       "      <td>6.0</td>\n",
       "      <td>3</td>\n",
       "      <td>3</td>\n",
       "      <td>3</td>\n",
       "      <td>3</td>\n",
       "      <td>233.7</td>\n",
       "      <td>145.22118</td>\n",
       "      <td>NaN</td>\n",
       "      <td>NaN</td>\n",
       "    </tr>\n",
       "    <tr>\n",
       "      <th>106925</th>\n",
       "      <td>Tortola, British V.I.</td>\n",
       "      <td>VG-</td>\n",
       "      <td>18.350191</td>\n",
       "      <td>-64.616712</td>\n",
       "      <td>2018</td>\n",
       "      <td>2017-12-30</td>\n",
       "      <td>2.0</td>\n",
       "      <td>NaN</td>\n",
       "      <td>NaN</td>\n",
       "      <td>2.0</td>\n",
       "      <td>...</td>\n",
       "      <td>5.0</td>\n",
       "      <td>6.0</td>\n",
       "      <td>3</td>\n",
       "      <td>3</td>\n",
       "      <td>3</td>\n",
       "      <td>3</td>\n",
       "      <td>21.0</td>\n",
       "      <td>13.04940</td>\n",
       "      <td>NaN</td>\n",
       "      <td>NaN</td>\n",
       "    </tr>\n",
       "    <tr>\n",
       "      <th>106926</th>\n",
       "      <td>East End, St. Croix, USVI</td>\n",
       "      <td>VI-</td>\n",
       "      <td>17.757222</td>\n",
       "      <td>-64.560191</td>\n",
       "      <td>2018</td>\n",
       "      <td>2017-12-17</td>\n",
       "      <td>17.0</td>\n",
       "      <td>NaN</td>\n",
       "      <td>NaN</td>\n",
       "      <td>7.0</td>\n",
       "      <td>...</td>\n",
       "      <td>6.0</td>\n",
       "      <td>2.0</td>\n",
       "      <td>3</td>\n",
       "      <td>1</td>\n",
       "      <td>3,1</td>\n",
       "      <td>3</td>\n",
       "      <td>237.0</td>\n",
       "      <td>147.27180</td>\n",
       "      <td>NaN</td>\n",
       "      <td>NaN</td>\n",
       "    </tr>\n",
       "    <tr>\n",
       "      <th>106927</th>\n",
       "      <td>St. Croix, USVI</td>\n",
       "      <td>VI-</td>\n",
       "      <td>17.716794</td>\n",
       "      <td>-64.783308</td>\n",
       "      <td>2018</td>\n",
       "      <td>2017-12-17</td>\n",
       "      <td>19.0</td>\n",
       "      <td>NaN</td>\n",
       "      <td>NaN</td>\n",
       "      <td>10.0</td>\n",
       "      <td>...</td>\n",
       "      <td>6.0</td>\n",
       "      <td>2.0</td>\n",
       "      <td>3</td>\n",
       "      <td>1</td>\n",
       "      <td>NaN</td>\n",
       "      <td>NaN</td>\n",
       "      <td>225.6</td>\n",
       "      <td>140.18784</td>\n",
       "      <td>NaN</td>\n",
       "      <td>NaN</td>\n",
       "    </tr>\n",
       "    <tr>\n",
       "      <th>106928</th>\n",
       "      <td>St. John, USVI</td>\n",
       "      <td>VI-</td>\n",
       "      <td>18.350191</td>\n",
       "      <td>-64.700021</td>\n",
       "      <td>2018</td>\n",
       "      <td>2017-12-23</td>\n",
       "      <td>24.0</td>\n",
       "      <td>NaN</td>\n",
       "      <td>16.0</td>\n",
       "      <td>16.0</td>\n",
       "      <td>...</td>\n",
       "      <td>1.0</td>\n",
       "      <td>1.0</td>\n",
       "      <td>3</td>\n",
       "      <td>3</td>\n",
       "      <td>NaN</td>\n",
       "      <td>NaN</td>\n",
       "      <td>18.0</td>\n",
       "      <td>11.18520</td>\n",
       "      <td>NaN</td>\n",
       "      <td>NaN</td>\n",
       "    </tr>\n",
       "  </tbody>\n",
       "</table>\n",
       "<p>5 rows × 35 columns</p>\n",
       "</div>"
      ],
      "text/plain": [
       "                      circle_name country_state        lat         lon  \\\n",
       "106924                   Sundance         US-WY  44.208072 -104.227101   \n",
       "106925      Tortola, British V.I.           VG-  18.350191  -64.616712   \n",
       "106926  East End, St. Croix, USVI           VI-  17.757222  -64.560191   \n",
       "106927            St. Croix, USVI           VI-  17.716794  -64.783308   \n",
       "106928             St. John, USVI           VI-  18.350191  -64.700021   \n",
       "\n",
       "        count_year  count_date  n_field_counters  n_feeder_counters  \\\n",
       "106924        2018  2017-12-30               4.0               12.0   \n",
       "106925        2018  2017-12-30               2.0                NaN   \n",
       "106926        2018  2017-12-17              17.0                NaN   \n",
       "106927        2018  2017-12-17              19.0                NaN   \n",
       "106928        2018  2017-12-23              24.0                NaN   \n",
       "\n",
       "        min_field_parties  max_field_parties  ...  am_cloud  pm_cloud  \\\n",
       "106924                3.0                3.0  ...       6.0       6.0   \n",
       "106925                NaN                2.0  ...       5.0       6.0   \n",
       "106926                NaN                7.0  ...       6.0       2.0   \n",
       "106927                NaN               10.0  ...       6.0       2.0   \n",
       "106928               16.0               16.0  ...       1.0       1.0   \n",
       "\n",
       "        am_rain  pm_rain  am_snow pm_snow  field_distance_imperial  \\\n",
       "106924        3        3        3       3                    233.7   \n",
       "106925        3        3        3       3                     21.0   \n",
       "106926        3        1      3,1       3                    237.0   \n",
       "106927        3        1      NaN     NaN                    225.6   \n",
       "106928        3        3      NaN     NaN                     18.0   \n",
       "\n",
       "        field_distance_metric  nocturnal_distance_imperial  \\\n",
       "106924              145.22118                          NaN   \n",
       "106925               13.04940                          NaN   \n",
       "106926              147.27180                          NaN   \n",
       "106927              140.18784                          NaN   \n",
       "106928               11.18520                          NaN   \n",
       "\n",
       "        nocturnal_distance_metric  \n",
       "106924                        NaN  \n",
       "106925                        NaN  \n",
       "106926                        NaN  \n",
       "106927                        NaN  \n",
       "106928                        NaN  \n",
       "\n",
       "[5 rows x 35 columns]"
      ]
     },
     "execution_count": 27,
     "metadata": {},
     "output_type": "execute_result"
    }
   ],
   "source": [
    "df.tail()"
   ]
  },
  {
   "cell_type": "code",
   "execution_count": 28,
   "metadata": {},
   "outputs": [
    {
     "data": {
      "text/plain": [
       "0.0     20025\n",
       "1.0      2481\n",
       "2.0      1717\n",
       "10.0     1550\n",
       "5.0      1465\n",
       "Name: nocturnal_distance_imperial, dtype: int64"
      ]
     },
     "execution_count": 28,
     "metadata": {},
     "output_type": "execute_result"
    }
   ],
   "source": [
    "df.nocturnal_distance_imperial.value_counts().head()"
   ]
  },
  {
   "cell_type": "code",
   "execution_count": 29,
   "metadata": {},
   "outputs": [
    {
     "data": {
      "text/plain": [
       "80.0     307\n",
       "40.0     287\n",
       "120.0    282\n",
       "90.0     281\n",
       "60.0     280\n",
       "Name: field_distance_imperial, dtype: int64"
      ]
     },
     "execution_count": 29,
     "metadata": {},
     "output_type": "execute_result"
    }
   ],
   "source": [
    "df.field_distance_imperial.value_counts().head()"
   ]
  },
  {
   "cell_type": "code",
   "execution_count": 30,
   "metadata": {},
   "outputs": [
    {
     "data": {
      "text/plain": [
       "49.712    307\n",
       "24.856    287\n",
       "74.568    282\n",
       "55.926    281\n",
       "37.284    280\n",
       "Name: field_distance_metric, dtype: int64"
      ]
     },
     "execution_count": 30,
     "metadata": {},
     "output_type": "execute_result"
    }
   ],
   "source": [
    "df.field_distance_metric.value_counts().head()"
   ]
  },
  {
   "cell_type": "code",
   "execution_count": 31,
   "metadata": {},
   "outputs": [
    {
     "data": {
      "text/plain": [
       "0.0000    20025\n",
       "0.6214     2488\n",
       "1.2428     1718\n",
       "6.2140     1550\n",
       "3.1070     1467\n",
       "Name: nocturnal_distance_metric, dtype: int64"
      ]
     },
     "execution_count": 31,
     "metadata": {},
     "output_type": "execute_result"
    }
   ],
   "source": [
    "df.nocturnal_distance_metric.value_counts().head()"
   ]
  },
  {
   "cell_type": "markdown",
   "metadata": {},
   "source": [
    "## Convert snow\n",
    "key = snow_unit\n",
    "\n",
    "2 = inches\n",
    "\n",
    "4 = centimeters"
   ]
  },
  {
   "cell_type": "code",
   "execution_count": 32,
   "metadata": {},
   "outputs": [],
   "source": [
    "snow_cols = ['min_snow', 'max_snow']"
   ]
  },
  {
   "cell_type": "code",
   "execution_count": 33,
   "metadata": {},
   "outputs": [
    {
     "data": {
      "text/plain": [
       "2.0    47850\n",
       "4.0     5529\n",
       "Name: snow_unit, dtype: int64"
      ]
     },
     "execution_count": 33,
     "metadata": {},
     "output_type": "execute_result"
    }
   ],
   "source": [
    "df.snow_unit.value_counts()"
   ]
  },
  {
   "cell_type": "code",
   "execution_count": 34,
   "metadata": {},
   "outputs": [
    {
     "data": {
      "text/html": [
       "<div>\n",
       "<style scoped>\n",
       "    .dataframe tbody tr th:only-of-type {\n",
       "        vertical-align: middle;\n",
       "    }\n",
       "\n",
       "    .dataframe tbody tr th {\n",
       "        vertical-align: top;\n",
       "    }\n",
       "\n",
       "    .dataframe thead th {\n",
       "        text-align: right;\n",
       "    }\n",
       "</style>\n",
       "<table border=\"1\" class=\"dataframe\">\n",
       "  <thead>\n",
       "    <tr style=\"text-align: right;\">\n",
       "      <th></th>\n",
       "      <th>circle_name</th>\n",
       "      <th>country_state</th>\n",
       "      <th>lat</th>\n",
       "      <th>lon</th>\n",
       "      <th>count_year</th>\n",
       "      <th>count_date</th>\n",
       "      <th>n_field_counters</th>\n",
       "      <th>n_feeder_counters</th>\n",
       "      <th>min_field_parties</th>\n",
       "      <th>max_field_parties</th>\n",
       "      <th>...</th>\n",
       "      <th>pm_cloud</th>\n",
       "      <th>am_rain</th>\n",
       "      <th>pm_rain</th>\n",
       "      <th>am_snow</th>\n",
       "      <th>pm_snow</th>\n",
       "      <th>field_distance_imperial</th>\n",
       "      <th>field_distance_metric</th>\n",
       "      <th>nocturnal_distance_imperial</th>\n",
       "      <th>nocturnal_distance_metric</th>\n",
       "      <th>min_snow_imperial</th>\n",
       "    </tr>\n",
       "  </thead>\n",
       "  <tbody>\n",
       "    <tr>\n",
       "      <th>0</th>\n",
       "      <td>Scotch Lake</td>\n",
       "      <td>CA-NB</td>\n",
       "      <td>45.950000</td>\n",
       "      <td>-66.983300</td>\n",
       "      <td>1901</td>\n",
       "      <td>1900-12-25</td>\n",
       "      <td>1.0</td>\n",
       "      <td>NaN</td>\n",
       "      <td>NaN</td>\n",
       "      <td>NaN</td>\n",
       "      <td>...</td>\n",
       "      <td>NaN</td>\n",
       "      <td>NaN</td>\n",
       "      <td>NaN</td>\n",
       "      <td>NaN</td>\n",
       "      <td>NaN</td>\n",
       "      <td>NaN</td>\n",
       "      <td>NaN</td>\n",
       "      <td>NaN</td>\n",
       "      <td>NaN</td>\n",
       "      <td>NaN</td>\n",
       "    </tr>\n",
       "    <tr>\n",
       "      <th>1</th>\n",
       "      <td>Toronto</td>\n",
       "      <td>CA-ON</td>\n",
       "      <td>43.700000</td>\n",
       "      <td>-79.416700</td>\n",
       "      <td>1901</td>\n",
       "      <td>1900-12-25</td>\n",
       "      <td>1.0</td>\n",
       "      <td>NaN</td>\n",
       "      <td>NaN</td>\n",
       "      <td>NaN</td>\n",
       "      <td>...</td>\n",
       "      <td>NaN</td>\n",
       "      <td>NaN</td>\n",
       "      <td>NaN</td>\n",
       "      <td>NaN</td>\n",
       "      <td>NaN</td>\n",
       "      <td>NaN</td>\n",
       "      <td>NaN</td>\n",
       "      <td>NaN</td>\n",
       "      <td>NaN</td>\n",
       "      <td>NaN</td>\n",
       "    </tr>\n",
       "    <tr>\n",
       "      <th>2</th>\n",
       "      <td>Pacific Grove</td>\n",
       "      <td>US-CA</td>\n",
       "      <td>36.616700</td>\n",
       "      <td>-121.916700</td>\n",
       "      <td>1901</td>\n",
       "      <td>1900-12-25</td>\n",
       "      <td>1.0</td>\n",
       "      <td>NaN</td>\n",
       "      <td>NaN</td>\n",
       "      <td>NaN</td>\n",
       "      <td>...</td>\n",
       "      <td>NaN</td>\n",
       "      <td>NaN</td>\n",
       "      <td>NaN</td>\n",
       "      <td>NaN</td>\n",
       "      <td>NaN</td>\n",
       "      <td>NaN</td>\n",
       "      <td>NaN</td>\n",
       "      <td>NaN</td>\n",
       "      <td>NaN</td>\n",
       "      <td>NaN</td>\n",
       "    </tr>\n",
       "    <tr>\n",
       "      <th>3</th>\n",
       "      <td>Pueblo</td>\n",
       "      <td>US-CO</td>\n",
       "      <td>38.175251</td>\n",
       "      <td>-104.519575</td>\n",
       "      <td>1901</td>\n",
       "      <td>1900-12-25</td>\n",
       "      <td>1.0</td>\n",
       "      <td>NaN</td>\n",
       "      <td>NaN</td>\n",
       "      <td>NaN</td>\n",
       "      <td>...</td>\n",
       "      <td>NaN</td>\n",
       "      <td>NaN</td>\n",
       "      <td>NaN</td>\n",
       "      <td>NaN</td>\n",
       "      <td>NaN</td>\n",
       "      <td>NaN</td>\n",
       "      <td>NaN</td>\n",
       "      <td>NaN</td>\n",
       "      <td>NaN</td>\n",
       "      <td>NaN</td>\n",
       "    </tr>\n",
       "    <tr>\n",
       "      <th>4</th>\n",
       "      <td>Bristol</td>\n",
       "      <td>US-CT</td>\n",
       "      <td>41.671800</td>\n",
       "      <td>-72.949500</td>\n",
       "      <td>1901</td>\n",
       "      <td>1900-12-25</td>\n",
       "      <td>2.0</td>\n",
       "      <td>NaN</td>\n",
       "      <td>NaN</td>\n",
       "      <td>NaN</td>\n",
       "      <td>...</td>\n",
       "      <td>NaN</td>\n",
       "      <td>NaN</td>\n",
       "      <td>NaN</td>\n",
       "      <td>NaN</td>\n",
       "      <td>NaN</td>\n",
       "      <td>NaN</td>\n",
       "      <td>NaN</td>\n",
       "      <td>NaN</td>\n",
       "      <td>NaN</td>\n",
       "      <td>NaN</td>\n",
       "    </tr>\n",
       "  </tbody>\n",
       "</table>\n",
       "<p>5 rows × 36 columns</p>\n",
       "</div>"
      ],
      "text/plain": [
       "     circle_name country_state        lat         lon  count_year  count_date  \\\n",
       "0    Scotch Lake         CA-NB  45.950000  -66.983300        1901  1900-12-25   \n",
       "1        Toronto         CA-ON  43.700000  -79.416700        1901  1900-12-25   \n",
       "2  Pacific Grove         US-CA  36.616700 -121.916700        1901  1900-12-25   \n",
       "3         Pueblo         US-CO  38.175251 -104.519575        1901  1900-12-25   \n",
       "4        Bristol         US-CT  41.671800  -72.949500        1901  1900-12-25   \n",
       "\n",
       "   n_field_counters  n_feeder_counters  min_field_parties  max_field_parties  \\\n",
       "0               1.0                NaN                NaN                NaN   \n",
       "1               1.0                NaN                NaN                NaN   \n",
       "2               1.0                NaN                NaN                NaN   \n",
       "3               1.0                NaN                NaN                NaN   \n",
       "4               2.0                NaN                NaN                NaN   \n",
       "\n",
       "   ...  pm_cloud  am_rain  pm_rain  am_snow  pm_snow field_distance_imperial  \\\n",
       "0  ...       NaN      NaN      NaN      NaN      NaN                     NaN   \n",
       "1  ...       NaN      NaN      NaN      NaN      NaN                     NaN   \n",
       "2  ...       NaN      NaN      NaN      NaN      NaN                     NaN   \n",
       "3  ...       NaN      NaN      NaN      NaN      NaN                     NaN   \n",
       "4  ...       NaN      NaN      NaN      NaN      NaN                     NaN   \n",
       "\n",
       "   field_distance_metric  nocturnal_distance_imperial  \\\n",
       "0                    NaN                          NaN   \n",
       "1                    NaN                          NaN   \n",
       "2                    NaN                          NaN   \n",
       "3                    NaN                          NaN   \n",
       "4                    NaN                          NaN   \n",
       "\n",
       "   nocturnal_distance_metric  min_snow_imperial  \n",
       "0                        NaN                NaN  \n",
       "1                        NaN                NaN  \n",
       "2                        NaN                NaN  \n",
       "3                        NaN                NaN  \n",
       "4                        NaN                NaN  \n",
       "\n",
       "[5 rows x 36 columns]"
      ]
     },
     "execution_count": 34,
     "metadata": {},
     "output_type": "execute_result"
    }
   ],
   "source": [
    "df['min_snow_imperial'] = np.where(df['snow_unit']==2, df['min_snow'], (df['min_snow'] / 2.54))\n",
    "df.head()                                            "
   ]
  },
  {
   "cell_type": "code",
   "execution_count": 35,
   "metadata": {},
   "outputs": [
    {
     "data": {
      "text/html": [
       "<div>\n",
       "<style scoped>\n",
       "    .dataframe tbody tr th:only-of-type {\n",
       "        vertical-align: middle;\n",
       "    }\n",
       "\n",
       "    .dataframe tbody tr th {\n",
       "        vertical-align: top;\n",
       "    }\n",
       "\n",
       "    .dataframe thead th {\n",
       "        text-align: right;\n",
       "    }\n",
       "</style>\n",
       "<table border=\"1\" class=\"dataframe\">\n",
       "  <thead>\n",
       "    <tr style=\"text-align: right;\">\n",
       "      <th></th>\n",
       "      <th>circle_name</th>\n",
       "      <th>country_state</th>\n",
       "      <th>lat</th>\n",
       "      <th>lon</th>\n",
       "      <th>count_year</th>\n",
       "      <th>count_date</th>\n",
       "      <th>n_field_counters</th>\n",
       "      <th>n_feeder_counters</th>\n",
       "      <th>min_field_parties</th>\n",
       "      <th>max_field_parties</th>\n",
       "      <th>...</th>\n",
       "      <th>pm_cloud</th>\n",
       "      <th>am_rain</th>\n",
       "      <th>pm_rain</th>\n",
       "      <th>am_snow</th>\n",
       "      <th>pm_snow</th>\n",
       "      <th>field_distance_imperial</th>\n",
       "      <th>field_distance_metric</th>\n",
       "      <th>nocturnal_distance_imperial</th>\n",
       "      <th>nocturnal_distance_metric</th>\n",
       "      <th>min_snow_imperial</th>\n",
       "    </tr>\n",
       "  </thead>\n",
       "  <tbody>\n",
       "    <tr>\n",
       "      <th>106924</th>\n",
       "      <td>Sundance</td>\n",
       "      <td>US-WY</td>\n",
       "      <td>44.208072</td>\n",
       "      <td>-104.227101</td>\n",
       "      <td>2018</td>\n",
       "      <td>2017-12-30</td>\n",
       "      <td>4.0</td>\n",
       "      <td>12.0</td>\n",
       "      <td>3.0</td>\n",
       "      <td>3.0</td>\n",
       "      <td>...</td>\n",
       "      <td>6.0</td>\n",
       "      <td>3</td>\n",
       "      <td>3</td>\n",
       "      <td>3</td>\n",
       "      <td>3</td>\n",
       "      <td>233.7</td>\n",
       "      <td>145.22118</td>\n",
       "      <td>NaN</td>\n",
       "      <td>NaN</td>\n",
       "      <td>1.0</td>\n",
       "    </tr>\n",
       "    <tr>\n",
       "      <th>106925</th>\n",
       "      <td>Tortola, British V.I.</td>\n",
       "      <td>VG-</td>\n",
       "      <td>18.350191</td>\n",
       "      <td>-64.616712</td>\n",
       "      <td>2018</td>\n",
       "      <td>2017-12-30</td>\n",
       "      <td>2.0</td>\n",
       "      <td>NaN</td>\n",
       "      <td>NaN</td>\n",
       "      <td>2.0</td>\n",
       "      <td>...</td>\n",
       "      <td>6.0</td>\n",
       "      <td>3</td>\n",
       "      <td>3</td>\n",
       "      <td>3</td>\n",
       "      <td>3</td>\n",
       "      <td>21.0</td>\n",
       "      <td>13.04940</td>\n",
       "      <td>NaN</td>\n",
       "      <td>NaN</td>\n",
       "      <td>NaN</td>\n",
       "    </tr>\n",
       "    <tr>\n",
       "      <th>106926</th>\n",
       "      <td>East End, St. Croix, USVI</td>\n",
       "      <td>VI-</td>\n",
       "      <td>17.757222</td>\n",
       "      <td>-64.560191</td>\n",
       "      <td>2018</td>\n",
       "      <td>2017-12-17</td>\n",
       "      <td>17.0</td>\n",
       "      <td>NaN</td>\n",
       "      <td>NaN</td>\n",
       "      <td>7.0</td>\n",
       "      <td>...</td>\n",
       "      <td>2.0</td>\n",
       "      <td>3</td>\n",
       "      <td>1</td>\n",
       "      <td>3,1</td>\n",
       "      <td>3</td>\n",
       "      <td>237.0</td>\n",
       "      <td>147.27180</td>\n",
       "      <td>NaN</td>\n",
       "      <td>NaN</td>\n",
       "      <td>NaN</td>\n",
       "    </tr>\n",
       "    <tr>\n",
       "      <th>106927</th>\n",
       "      <td>St. Croix, USVI</td>\n",
       "      <td>VI-</td>\n",
       "      <td>17.716794</td>\n",
       "      <td>-64.783308</td>\n",
       "      <td>2018</td>\n",
       "      <td>2017-12-17</td>\n",
       "      <td>19.0</td>\n",
       "      <td>NaN</td>\n",
       "      <td>NaN</td>\n",
       "      <td>10.0</td>\n",
       "      <td>...</td>\n",
       "      <td>2.0</td>\n",
       "      <td>3</td>\n",
       "      <td>1</td>\n",
       "      <td>NaN</td>\n",
       "      <td>NaN</td>\n",
       "      <td>225.6</td>\n",
       "      <td>140.18784</td>\n",
       "      <td>NaN</td>\n",
       "      <td>NaN</td>\n",
       "      <td>NaN</td>\n",
       "    </tr>\n",
       "    <tr>\n",
       "      <th>106928</th>\n",
       "      <td>St. John, USVI</td>\n",
       "      <td>VI-</td>\n",
       "      <td>18.350191</td>\n",
       "      <td>-64.700021</td>\n",
       "      <td>2018</td>\n",
       "      <td>2017-12-23</td>\n",
       "      <td>24.0</td>\n",
       "      <td>NaN</td>\n",
       "      <td>16.0</td>\n",
       "      <td>16.0</td>\n",
       "      <td>...</td>\n",
       "      <td>1.0</td>\n",
       "      <td>3</td>\n",
       "      <td>3</td>\n",
       "      <td>NaN</td>\n",
       "      <td>NaN</td>\n",
       "      <td>18.0</td>\n",
       "      <td>11.18520</td>\n",
       "      <td>NaN</td>\n",
       "      <td>NaN</td>\n",
       "      <td>NaN</td>\n",
       "    </tr>\n",
       "  </tbody>\n",
       "</table>\n",
       "<p>5 rows × 36 columns</p>\n",
       "</div>"
      ],
      "text/plain": [
       "                      circle_name country_state        lat         lon  \\\n",
       "106924                   Sundance         US-WY  44.208072 -104.227101   \n",
       "106925      Tortola, British V.I.           VG-  18.350191  -64.616712   \n",
       "106926  East End, St. Croix, USVI           VI-  17.757222  -64.560191   \n",
       "106927            St. Croix, USVI           VI-  17.716794  -64.783308   \n",
       "106928             St. John, USVI           VI-  18.350191  -64.700021   \n",
       "\n",
       "        count_year  count_date  n_field_counters  n_feeder_counters  \\\n",
       "106924        2018  2017-12-30               4.0               12.0   \n",
       "106925        2018  2017-12-30               2.0                NaN   \n",
       "106926        2018  2017-12-17              17.0                NaN   \n",
       "106927        2018  2017-12-17              19.0                NaN   \n",
       "106928        2018  2017-12-23              24.0                NaN   \n",
       "\n",
       "        min_field_parties  max_field_parties  ...  pm_cloud  am_rain  pm_rain  \\\n",
       "106924                3.0                3.0  ...       6.0        3        3   \n",
       "106925                NaN                2.0  ...       6.0        3        3   \n",
       "106926                NaN                7.0  ...       2.0        3        1   \n",
       "106927                NaN               10.0  ...       2.0        3        1   \n",
       "106928               16.0               16.0  ...       1.0        3        3   \n",
       "\n",
       "        am_snow  pm_snow field_distance_imperial  field_distance_metric  \\\n",
       "106924        3        3                   233.7              145.22118   \n",
       "106925        3        3                    21.0               13.04940   \n",
       "106926      3,1        3                   237.0              147.27180   \n",
       "106927      NaN      NaN                   225.6              140.18784   \n",
       "106928      NaN      NaN                    18.0               11.18520   \n",
       "\n",
       "        nocturnal_distance_imperial  nocturnal_distance_metric  \\\n",
       "106924                          NaN                        NaN   \n",
       "106925                          NaN                        NaN   \n",
       "106926                          NaN                        NaN   \n",
       "106927                          NaN                        NaN   \n",
       "106928                          NaN                        NaN   \n",
       "\n",
       "        min_snow_imperial  \n",
       "106924                1.0  \n",
       "106925                NaN  \n",
       "106926                NaN  \n",
       "106927                NaN  \n",
       "106928                NaN  \n",
       "\n",
       "[5 rows x 36 columns]"
      ]
     },
     "execution_count": 35,
     "metadata": {},
     "output_type": "execute_result"
    }
   ],
   "source": [
    "df.tail()"
   ]
  },
  {
   "cell_type": "code",
   "execution_count": 36,
   "metadata": {},
   "outputs": [],
   "source": [
    "df['min_snow_metric'] = np.where(df['snow_unit']==4, df['min_snow'], (df['min_snow'] * 2.54))   "
   ]
  },
  {
   "cell_type": "code",
   "execution_count": 37,
   "metadata": {},
   "outputs": [
    {
     "data": {
      "text/html": [
       "<div>\n",
       "<style scoped>\n",
       "    .dataframe tbody tr th:only-of-type {\n",
       "        vertical-align: middle;\n",
       "    }\n",
       "\n",
       "    .dataframe tbody tr th {\n",
       "        vertical-align: top;\n",
       "    }\n",
       "\n",
       "    .dataframe thead th {\n",
       "        text-align: right;\n",
       "    }\n",
       "</style>\n",
       "<table border=\"1\" class=\"dataframe\">\n",
       "  <thead>\n",
       "    <tr style=\"text-align: right;\">\n",
       "      <th></th>\n",
       "      <th>circle_name</th>\n",
       "      <th>country_state</th>\n",
       "      <th>lat</th>\n",
       "      <th>lon</th>\n",
       "      <th>count_year</th>\n",
       "      <th>count_date</th>\n",
       "      <th>n_field_counters</th>\n",
       "      <th>n_feeder_counters</th>\n",
       "      <th>min_field_parties</th>\n",
       "      <th>max_field_parties</th>\n",
       "      <th>...</th>\n",
       "      <th>am_rain</th>\n",
       "      <th>pm_rain</th>\n",
       "      <th>am_snow</th>\n",
       "      <th>pm_snow</th>\n",
       "      <th>field_distance_imperial</th>\n",
       "      <th>field_distance_metric</th>\n",
       "      <th>nocturnal_distance_imperial</th>\n",
       "      <th>nocturnal_distance_metric</th>\n",
       "      <th>min_snow_imperial</th>\n",
       "      <th>min_snow_metric</th>\n",
       "    </tr>\n",
       "  </thead>\n",
       "  <tbody>\n",
       "    <tr>\n",
       "      <th>106924</th>\n",
       "      <td>Sundance</td>\n",
       "      <td>US-WY</td>\n",
       "      <td>44.208072</td>\n",
       "      <td>-104.227101</td>\n",
       "      <td>2018</td>\n",
       "      <td>2017-12-30</td>\n",
       "      <td>4.0</td>\n",
       "      <td>12.0</td>\n",
       "      <td>3.0</td>\n",
       "      <td>3.0</td>\n",
       "      <td>...</td>\n",
       "      <td>3</td>\n",
       "      <td>3</td>\n",
       "      <td>3</td>\n",
       "      <td>3</td>\n",
       "      <td>233.7</td>\n",
       "      <td>145.22118</td>\n",
       "      <td>NaN</td>\n",
       "      <td>NaN</td>\n",
       "      <td>1.0</td>\n",
       "      <td>2.54</td>\n",
       "    </tr>\n",
       "    <tr>\n",
       "      <th>106925</th>\n",
       "      <td>Tortola, British V.I.</td>\n",
       "      <td>VG-</td>\n",
       "      <td>18.350191</td>\n",
       "      <td>-64.616712</td>\n",
       "      <td>2018</td>\n",
       "      <td>2017-12-30</td>\n",
       "      <td>2.0</td>\n",
       "      <td>NaN</td>\n",
       "      <td>NaN</td>\n",
       "      <td>2.0</td>\n",
       "      <td>...</td>\n",
       "      <td>3</td>\n",
       "      <td>3</td>\n",
       "      <td>3</td>\n",
       "      <td>3</td>\n",
       "      <td>21.0</td>\n",
       "      <td>13.04940</td>\n",
       "      <td>NaN</td>\n",
       "      <td>NaN</td>\n",
       "      <td>NaN</td>\n",
       "      <td>NaN</td>\n",
       "    </tr>\n",
       "    <tr>\n",
       "      <th>106926</th>\n",
       "      <td>East End, St. Croix, USVI</td>\n",
       "      <td>VI-</td>\n",
       "      <td>17.757222</td>\n",
       "      <td>-64.560191</td>\n",
       "      <td>2018</td>\n",
       "      <td>2017-12-17</td>\n",
       "      <td>17.0</td>\n",
       "      <td>NaN</td>\n",
       "      <td>NaN</td>\n",
       "      <td>7.0</td>\n",
       "      <td>...</td>\n",
       "      <td>3</td>\n",
       "      <td>1</td>\n",
       "      <td>3,1</td>\n",
       "      <td>3</td>\n",
       "      <td>237.0</td>\n",
       "      <td>147.27180</td>\n",
       "      <td>NaN</td>\n",
       "      <td>NaN</td>\n",
       "      <td>NaN</td>\n",
       "      <td>NaN</td>\n",
       "    </tr>\n",
       "    <tr>\n",
       "      <th>106927</th>\n",
       "      <td>St. Croix, USVI</td>\n",
       "      <td>VI-</td>\n",
       "      <td>17.716794</td>\n",
       "      <td>-64.783308</td>\n",
       "      <td>2018</td>\n",
       "      <td>2017-12-17</td>\n",
       "      <td>19.0</td>\n",
       "      <td>NaN</td>\n",
       "      <td>NaN</td>\n",
       "      <td>10.0</td>\n",
       "      <td>...</td>\n",
       "      <td>3</td>\n",
       "      <td>1</td>\n",
       "      <td>NaN</td>\n",
       "      <td>NaN</td>\n",
       "      <td>225.6</td>\n",
       "      <td>140.18784</td>\n",
       "      <td>NaN</td>\n",
       "      <td>NaN</td>\n",
       "      <td>NaN</td>\n",
       "      <td>NaN</td>\n",
       "    </tr>\n",
       "    <tr>\n",
       "      <th>106928</th>\n",
       "      <td>St. John, USVI</td>\n",
       "      <td>VI-</td>\n",
       "      <td>18.350191</td>\n",
       "      <td>-64.700021</td>\n",
       "      <td>2018</td>\n",
       "      <td>2017-12-23</td>\n",
       "      <td>24.0</td>\n",
       "      <td>NaN</td>\n",
       "      <td>16.0</td>\n",
       "      <td>16.0</td>\n",
       "      <td>...</td>\n",
       "      <td>3</td>\n",
       "      <td>3</td>\n",
       "      <td>NaN</td>\n",
       "      <td>NaN</td>\n",
       "      <td>18.0</td>\n",
       "      <td>11.18520</td>\n",
       "      <td>NaN</td>\n",
       "      <td>NaN</td>\n",
       "      <td>NaN</td>\n",
       "      <td>NaN</td>\n",
       "    </tr>\n",
       "  </tbody>\n",
       "</table>\n",
       "<p>5 rows × 37 columns</p>\n",
       "</div>"
      ],
      "text/plain": [
       "                      circle_name country_state        lat         lon  \\\n",
       "106924                   Sundance         US-WY  44.208072 -104.227101   \n",
       "106925      Tortola, British V.I.           VG-  18.350191  -64.616712   \n",
       "106926  East End, St. Croix, USVI           VI-  17.757222  -64.560191   \n",
       "106927            St. Croix, USVI           VI-  17.716794  -64.783308   \n",
       "106928             St. John, USVI           VI-  18.350191  -64.700021   \n",
       "\n",
       "        count_year  count_date  n_field_counters  n_feeder_counters  \\\n",
       "106924        2018  2017-12-30               4.0               12.0   \n",
       "106925        2018  2017-12-30               2.0                NaN   \n",
       "106926        2018  2017-12-17              17.0                NaN   \n",
       "106927        2018  2017-12-17              19.0                NaN   \n",
       "106928        2018  2017-12-23              24.0                NaN   \n",
       "\n",
       "        min_field_parties  max_field_parties  ...  am_rain  pm_rain  am_snow  \\\n",
       "106924                3.0                3.0  ...        3        3        3   \n",
       "106925                NaN                2.0  ...        3        3        3   \n",
       "106926                NaN                7.0  ...        3        1      3,1   \n",
       "106927                NaN               10.0  ...        3        1      NaN   \n",
       "106928               16.0               16.0  ...        3        3      NaN   \n",
       "\n",
       "        pm_snow  field_distance_imperial field_distance_metric  \\\n",
       "106924        3                    233.7             145.22118   \n",
       "106925        3                     21.0              13.04940   \n",
       "106926        3                    237.0             147.27180   \n",
       "106927      NaN                    225.6             140.18784   \n",
       "106928      NaN                     18.0              11.18520   \n",
       "\n",
       "        nocturnal_distance_imperial  nocturnal_distance_metric  \\\n",
       "106924                          NaN                        NaN   \n",
       "106925                          NaN                        NaN   \n",
       "106926                          NaN                        NaN   \n",
       "106927                          NaN                        NaN   \n",
       "106928                          NaN                        NaN   \n",
       "\n",
       "        min_snow_imperial  min_snow_metric  \n",
       "106924                1.0             2.54  \n",
       "106925                NaN              NaN  \n",
       "106926                NaN              NaN  \n",
       "106927                NaN              NaN  \n",
       "106928                NaN              NaN  \n",
       "\n",
       "[5 rows x 37 columns]"
      ]
     },
     "execution_count": 37,
     "metadata": {},
     "output_type": "execute_result"
    }
   ],
   "source": [
    "df.tail()"
   ]
  },
  {
   "cell_type": "code",
   "execution_count": 38,
   "metadata": {},
   "outputs": [
    {
     "data": {
      "text/plain": [
       "0.00     52481\n",
       "2.54      3985\n",
       "5.08      3556\n",
       "10.16     2431\n",
       "15.24     2338\n",
       "Name: min_snow_metric, dtype: int64"
      ]
     },
     "execution_count": 38,
     "metadata": {},
     "output_type": "execute_result"
    }
   ],
   "source": [
    "df['min_snow_metric'].value_counts().sort_values(ascending=False).head()"
   ]
  },
  {
   "cell_type": "code",
   "execution_count": 39,
   "metadata": {},
   "outputs": [
    {
     "data": {
      "text/plain": [
       "0.000000    52481\n",
       "1.000000     2460\n",
       "2.000000     2184\n",
       "0.393701     1802\n",
       "0.787402     1706\n",
       "Name: min_snow_imperial, dtype: int64"
      ]
     },
     "execution_count": 39,
     "metadata": {},
     "output_type": "execute_result"
    }
   ],
   "source": [
    "df['min_snow_imperial'].value_counts().sort_values(ascending=False).head()"
   ]
  },
  {
   "cell_type": "code",
   "execution_count": 40,
   "metadata": {},
   "outputs": [],
   "source": [
    "df['max_snow_metric'] = np.where(df['snow_unit']==4, df['max_snow'], (df['max_snow'] * 2.54))   "
   ]
  },
  {
   "cell_type": "code",
   "execution_count": 41,
   "metadata": {},
   "outputs": [],
   "source": [
    "df['max_snow_imperial'] = np.where(df['snow_unit']==2, df['max_snow'], (df['max_snow'] / 2.54))"
   ]
  },
  {
   "cell_type": "code",
   "execution_count": 42,
   "metadata": {},
   "outputs": [
    {
     "data": {
      "text/html": [
       "<div>\n",
       "<style scoped>\n",
       "    .dataframe tbody tr th:only-of-type {\n",
       "        vertical-align: middle;\n",
       "    }\n",
       "\n",
       "    .dataframe tbody tr th {\n",
       "        vertical-align: top;\n",
       "    }\n",
       "\n",
       "    .dataframe thead th {\n",
       "        text-align: right;\n",
       "    }\n",
       "</style>\n",
       "<table border=\"1\" class=\"dataframe\">\n",
       "  <thead>\n",
       "    <tr style=\"text-align: right;\">\n",
       "      <th></th>\n",
       "      <th>max_snow_imperial</th>\n",
       "      <th>max_snow_metric</th>\n",
       "    </tr>\n",
       "  </thead>\n",
       "  <tbody>\n",
       "    <tr>\n",
       "      <th>count</th>\n",
       "      <td>77165.000000</td>\n",
       "      <td>77165.000000</td>\n",
       "    </tr>\n",
       "    <tr>\n",
       "      <th>mean</th>\n",
       "      <td>3.066281</td>\n",
       "      <td>9.880511</td>\n",
       "    </tr>\n",
       "    <tr>\n",
       "      <th>std</th>\n",
       "      <td>8.405430</td>\n",
       "      <td>23.869954</td>\n",
       "    </tr>\n",
       "    <tr>\n",
       "      <th>min</th>\n",
       "      <td>0.000000</td>\n",
       "      <td>0.000000</td>\n",
       "    </tr>\n",
       "    <tr>\n",
       "      <th>25%</th>\n",
       "      <td>0.000000</td>\n",
       "      <td>0.000000</td>\n",
       "    </tr>\n",
       "    <tr>\n",
       "      <th>50%</th>\n",
       "      <td>0.000000</td>\n",
       "      <td>0.000000</td>\n",
       "    </tr>\n",
       "    <tr>\n",
       "      <th>75%</th>\n",
       "      <td>3.543307</td>\n",
       "      <td>12.700000</td>\n",
       "    </tr>\n",
       "    <tr>\n",
       "      <th>max</th>\n",
       "      <td>900.000000</td>\n",
       "      <td>2286.000000</td>\n",
       "    </tr>\n",
       "  </tbody>\n",
       "</table>\n",
       "</div>"
      ],
      "text/plain": [
       "       max_snow_imperial  max_snow_metric\n",
       "count       77165.000000     77165.000000\n",
       "mean            3.066281         9.880511\n",
       "std             8.405430        23.869954\n",
       "min             0.000000         0.000000\n",
       "25%             0.000000         0.000000\n",
       "50%             0.000000         0.000000\n",
       "75%             3.543307        12.700000\n",
       "max           900.000000      2286.000000"
      ]
     },
     "execution_count": 42,
     "metadata": {},
     "output_type": "execute_result"
    }
   ],
   "source": [
    "df.loc[:, ['max_snow_imperial', 'max_snow_metric']].describe()"
   ]
  },
  {
   "cell_type": "code",
   "execution_count": 43,
   "metadata": {},
   "outputs": [
    {
     "data": {
      "text/plain": [
       "0.0    41984\n",
       "2.0     2279\n",
       "1.0     2102\n",
       "6.0     2057\n",
       "3.0     1888\n",
       "Name: max_snow_imperial, dtype: int64"
      ]
     },
     "execution_count": 43,
     "metadata": {},
     "output_type": "execute_result"
    }
   ],
   "source": [
    "df.max_snow_imperial.value_counts().sort_values(ascending=False).head()"
   ]
  },
  {
   "cell_type": "code",
   "execution_count": 44,
   "metadata": {},
   "outputs": [
    {
     "data": {
      "text/plain": [
       "<matplotlib.axes._subplots.AxesSubplot at 0x12bf2b898>"
      ]
     },
     "execution_count": 44,
     "metadata": {},
     "output_type": "execute_result"
    },
    {
     "data": {
      "image/png": "[encoded data removed]",
      "text/plain": [
       "<Figure size 432x288 with 1 Axes>"
      ]
     },
     "metadata": {
      "needs_background": "light"
     },
     "output_type": "display_data"
    }
   ],
   "source": [
    "df.max_snow_imperial.plot(kind='hist', bins = 100, range=[200, 2000])"
   ]
  },
  {
   "cell_type": "markdown",
   "metadata": {},
   "source": [
    "## Convert temperatures to Celsius\n",
    "key = temp_unit\n",
    "\n",
    "1 = celsius\n",
    "\n",
    "2 = farenheit"
   ]
  },
  {
   "cell_type": "code",
   "execution_count": 45,
   "metadata": {},
   "outputs": [],
   "source": [
    "temp_cols = ['min_temp', 'max_temp']"
   ]
  },
  {
   "cell_type": "code",
   "execution_count": 46,
   "metadata": {},
   "outputs": [
    {
     "data": {
      "text/html": [
       "<div>\n",
       "<style scoped>\n",
       "    .dataframe tbody tr th:only-of-type {\n",
       "        vertical-align: middle;\n",
       "    }\n",
       "\n",
       "    .dataframe tbody tr th {\n",
       "        vertical-align: top;\n",
       "    }\n",
       "\n",
       "    .dataframe thead th {\n",
       "        text-align: right;\n",
       "    }\n",
       "</style>\n",
       "<table border=\"1\" class=\"dataframe\">\n",
       "  <thead>\n",
       "    <tr style=\"text-align: right;\">\n",
       "      <th></th>\n",
       "      <th>circle_name</th>\n",
       "      <th>country_state</th>\n",
       "      <th>lat</th>\n",
       "      <th>lon</th>\n",
       "      <th>count_year</th>\n",
       "      <th>count_date</th>\n",
       "      <th>n_field_counters</th>\n",
       "      <th>n_feeder_counters</th>\n",
       "      <th>min_field_parties</th>\n",
       "      <th>max_field_parties</th>\n",
       "      <th>...</th>\n",
       "      <th>am_snow</th>\n",
       "      <th>pm_snow</th>\n",
       "      <th>field_distance_imperial</th>\n",
       "      <th>field_distance_metric</th>\n",
       "      <th>nocturnal_distance_imperial</th>\n",
       "      <th>nocturnal_distance_metric</th>\n",
       "      <th>min_snow_imperial</th>\n",
       "      <th>min_snow_metric</th>\n",
       "      <th>max_snow_metric</th>\n",
       "      <th>max_snow_imperial</th>\n",
       "    </tr>\n",
       "  </thead>\n",
       "  <tbody>\n",
       "    <tr>\n",
       "      <th>0</th>\n",
       "      <td>Scotch Lake</td>\n",
       "      <td>CA-NB</td>\n",
       "      <td>45.950000</td>\n",
       "      <td>-66.983300</td>\n",
       "      <td>1901</td>\n",
       "      <td>1900-12-25</td>\n",
       "      <td>1.0</td>\n",
       "      <td>NaN</td>\n",
       "      <td>NaN</td>\n",
       "      <td>NaN</td>\n",
       "      <td>...</td>\n",
       "      <td>NaN</td>\n",
       "      <td>NaN</td>\n",
       "      <td>NaN</td>\n",
       "      <td>NaN</td>\n",
       "      <td>NaN</td>\n",
       "      <td>NaN</td>\n",
       "      <td>NaN</td>\n",
       "      <td>NaN</td>\n",
       "      <td>NaN</td>\n",
       "      <td>NaN</td>\n",
       "    </tr>\n",
       "    <tr>\n",
       "      <th>1</th>\n",
       "      <td>Toronto</td>\n",
       "      <td>CA-ON</td>\n",
       "      <td>43.700000</td>\n",
       "      <td>-79.416700</td>\n",
       "      <td>1901</td>\n",
       "      <td>1900-12-25</td>\n",
       "      <td>1.0</td>\n",
       "      <td>NaN</td>\n",
       "      <td>NaN</td>\n",
       "      <td>NaN</td>\n",
       "      <td>...</td>\n",
       "      <td>NaN</td>\n",
       "      <td>NaN</td>\n",
       "      <td>NaN</td>\n",
       "      <td>NaN</td>\n",
       "      <td>NaN</td>\n",
       "      <td>NaN</td>\n",
       "      <td>NaN</td>\n",
       "      <td>NaN</td>\n",
       "      <td>NaN</td>\n",
       "      <td>NaN</td>\n",
       "    </tr>\n",
       "    <tr>\n",
       "      <th>2</th>\n",
       "      <td>Pacific Grove</td>\n",
       "      <td>US-CA</td>\n",
       "      <td>36.616700</td>\n",
       "      <td>-121.916700</td>\n",
       "      <td>1901</td>\n",
       "      <td>1900-12-25</td>\n",
       "      <td>1.0</td>\n",
       "      <td>NaN</td>\n",
       "      <td>NaN</td>\n",
       "      <td>NaN</td>\n",
       "      <td>...</td>\n",
       "      <td>NaN</td>\n",
       "      <td>NaN</td>\n",
       "      <td>NaN</td>\n",
       "      <td>NaN</td>\n",
       "      <td>NaN</td>\n",
       "      <td>NaN</td>\n",
       "      <td>NaN</td>\n",
       "      <td>NaN</td>\n",
       "      <td>NaN</td>\n",
       "      <td>NaN</td>\n",
       "    </tr>\n",
       "    <tr>\n",
       "      <th>3</th>\n",
       "      <td>Pueblo</td>\n",
       "      <td>US-CO</td>\n",
       "      <td>38.175251</td>\n",
       "      <td>-104.519575</td>\n",
       "      <td>1901</td>\n",
       "      <td>1900-12-25</td>\n",
       "      <td>1.0</td>\n",
       "      <td>NaN</td>\n",
       "      <td>NaN</td>\n",
       "      <td>NaN</td>\n",
       "      <td>...</td>\n",
       "      <td>NaN</td>\n",
       "      <td>NaN</td>\n",
       "      <td>NaN</td>\n",
       "      <td>NaN</td>\n",
       "      <td>NaN</td>\n",
       "      <td>NaN</td>\n",
       "      <td>NaN</td>\n",
       "      <td>NaN</td>\n",
       "      <td>NaN</td>\n",
       "      <td>NaN</td>\n",
       "    </tr>\n",
       "    <tr>\n",
       "      <th>4</th>\n",
       "      <td>Bristol</td>\n",
       "      <td>US-CT</td>\n",
       "      <td>41.671800</td>\n",
       "      <td>-72.949500</td>\n",
       "      <td>1901</td>\n",
       "      <td>1900-12-25</td>\n",
       "      <td>2.0</td>\n",
       "      <td>NaN</td>\n",
       "      <td>NaN</td>\n",
       "      <td>NaN</td>\n",
       "      <td>...</td>\n",
       "      <td>NaN</td>\n",
       "      <td>NaN</td>\n",
       "      <td>NaN</td>\n",
       "      <td>NaN</td>\n",
       "      <td>NaN</td>\n",
       "      <td>NaN</td>\n",
       "      <td>NaN</td>\n",
       "      <td>NaN</td>\n",
       "      <td>NaN</td>\n",
       "      <td>NaN</td>\n",
       "    </tr>\n",
       "  </tbody>\n",
       "</table>\n",
       "<p>5 rows × 39 columns</p>\n",
       "</div>"
      ],
      "text/plain": [
       "     circle_name country_state        lat         lon  count_year  count_date  \\\n",
       "0    Scotch Lake         CA-NB  45.950000  -66.983300        1901  1900-12-25   \n",
       "1        Toronto         CA-ON  43.700000  -79.416700        1901  1900-12-25   \n",
       "2  Pacific Grove         US-CA  36.616700 -121.916700        1901  1900-12-25   \n",
       "3         Pueblo         US-CO  38.175251 -104.519575        1901  1900-12-25   \n",
       "4        Bristol         US-CT  41.671800  -72.949500        1901  1900-12-25   \n",
       "\n",
       "   n_field_counters  n_feeder_counters  min_field_parties  max_field_parties  \\\n",
       "0               1.0                NaN                NaN                NaN   \n",
       "1               1.0                NaN                NaN                NaN   \n",
       "2               1.0                NaN                NaN                NaN   \n",
       "3               1.0                NaN                NaN                NaN   \n",
       "4               2.0                NaN                NaN                NaN   \n",
       "\n",
       "   ...  am_snow  pm_snow  field_distance_imperial  field_distance_metric  \\\n",
       "0  ...      NaN      NaN                      NaN                    NaN   \n",
       "1  ...      NaN      NaN                      NaN                    NaN   \n",
       "2  ...      NaN      NaN                      NaN                    NaN   \n",
       "3  ...      NaN      NaN                      NaN                    NaN   \n",
       "4  ...      NaN      NaN                      NaN                    NaN   \n",
       "\n",
       "   nocturnal_distance_imperial nocturnal_distance_metric  min_snow_imperial  \\\n",
       "0                          NaN                       NaN                NaN   \n",
       "1                          NaN                       NaN                NaN   \n",
       "2                          NaN                       NaN                NaN   \n",
       "3                          NaN                       NaN                NaN   \n",
       "4                          NaN                       NaN                NaN   \n",
       "\n",
       "   min_snow_metric  max_snow_metric  max_snow_imperial  \n",
       "0              NaN              NaN                NaN  \n",
       "1              NaN              NaN                NaN  \n",
       "2              NaN              NaN                NaN  \n",
       "3              NaN              NaN                NaN  \n",
       "4              NaN              NaN                NaN  \n",
       "\n",
       "[5 rows x 39 columns]"
      ]
     },
     "execution_count": 46,
     "metadata": {},
     "output_type": "execute_result"
    }
   ],
   "source": [
    "df.head()"
   ]
  },
  {
   "cell_type": "code",
   "execution_count": 47,
   "metadata": {},
   "outputs": [
    {
     "data": {
      "text/html": [
       "<div>\n",
       "<style scoped>\n",
       "    .dataframe tbody tr th:only-of-type {\n",
       "        vertical-align: middle;\n",
       "    }\n",
       "\n",
       "    .dataframe tbody tr th {\n",
       "        vertical-align: top;\n",
       "    }\n",
       "\n",
       "    .dataframe thead th {\n",
       "        text-align: right;\n",
       "    }\n",
       "</style>\n",
       "<table border=\"1\" class=\"dataframe\">\n",
       "  <thead>\n",
       "    <tr style=\"text-align: right;\">\n",
       "      <th></th>\n",
       "      <th>circle_name</th>\n",
       "      <th>country_state</th>\n",
       "      <th>lat</th>\n",
       "      <th>lon</th>\n",
       "      <th>count_year</th>\n",
       "      <th>count_date</th>\n",
       "      <th>n_field_counters</th>\n",
       "      <th>n_feeder_counters</th>\n",
       "      <th>min_field_parties</th>\n",
       "      <th>max_field_parties</th>\n",
       "      <th>...</th>\n",
       "      <th>pm_snow</th>\n",
       "      <th>field_distance_imperial</th>\n",
       "      <th>field_distance_metric</th>\n",
       "      <th>nocturnal_distance_imperial</th>\n",
       "      <th>nocturnal_distance_metric</th>\n",
       "      <th>min_snow_imperial</th>\n",
       "      <th>min_snow_metric</th>\n",
       "      <th>max_snow_metric</th>\n",
       "      <th>max_snow_imperial</th>\n",
       "      <th>min_temp_imperial</th>\n",
       "    </tr>\n",
       "  </thead>\n",
       "  <tbody>\n",
       "    <tr>\n",
       "      <th>0</th>\n",
       "      <td>Scotch Lake</td>\n",
       "      <td>CA-NB</td>\n",
       "      <td>45.950000</td>\n",
       "      <td>-66.983300</td>\n",
       "      <td>1901</td>\n",
       "      <td>1900-12-25</td>\n",
       "      <td>1.0</td>\n",
       "      <td>NaN</td>\n",
       "      <td>NaN</td>\n",
       "      <td>NaN</td>\n",
       "      <td>...</td>\n",
       "      <td>NaN</td>\n",
       "      <td>NaN</td>\n",
       "      <td>NaN</td>\n",
       "      <td>NaN</td>\n",
       "      <td>NaN</td>\n",
       "      <td>NaN</td>\n",
       "      <td>NaN</td>\n",
       "      <td>NaN</td>\n",
       "      <td>NaN</td>\n",
       "      <td>NaN</td>\n",
       "    </tr>\n",
       "    <tr>\n",
       "      <th>1</th>\n",
       "      <td>Toronto</td>\n",
       "      <td>CA-ON</td>\n",
       "      <td>43.700000</td>\n",
       "      <td>-79.416700</td>\n",
       "      <td>1901</td>\n",
       "      <td>1900-12-25</td>\n",
       "      <td>1.0</td>\n",
       "      <td>NaN</td>\n",
       "      <td>NaN</td>\n",
       "      <td>NaN</td>\n",
       "      <td>...</td>\n",
       "      <td>NaN</td>\n",
       "      <td>NaN</td>\n",
       "      <td>NaN</td>\n",
       "      <td>NaN</td>\n",
       "      <td>NaN</td>\n",
       "      <td>NaN</td>\n",
       "      <td>NaN</td>\n",
       "      <td>NaN</td>\n",
       "      <td>NaN</td>\n",
       "      <td>NaN</td>\n",
       "    </tr>\n",
       "    <tr>\n",
       "      <th>2</th>\n",
       "      <td>Pacific Grove</td>\n",
       "      <td>US-CA</td>\n",
       "      <td>36.616700</td>\n",
       "      <td>-121.916700</td>\n",
       "      <td>1901</td>\n",
       "      <td>1900-12-25</td>\n",
       "      <td>1.0</td>\n",
       "      <td>NaN</td>\n",
       "      <td>NaN</td>\n",
       "      <td>NaN</td>\n",
       "      <td>...</td>\n",
       "      <td>NaN</td>\n",
       "      <td>NaN</td>\n",
       "      <td>NaN</td>\n",
       "      <td>NaN</td>\n",
       "      <td>NaN</td>\n",
       "      <td>NaN</td>\n",
       "      <td>NaN</td>\n",
       "      <td>NaN</td>\n",
       "      <td>NaN</td>\n",
       "      <td>NaN</td>\n",
       "    </tr>\n",
       "    <tr>\n",
       "      <th>3</th>\n",
       "      <td>Pueblo</td>\n",
       "      <td>US-CO</td>\n",
       "      <td>38.175251</td>\n",
       "      <td>-104.519575</td>\n",
       "      <td>1901</td>\n",
       "      <td>1900-12-25</td>\n",
       "      <td>1.0</td>\n",
       "      <td>NaN</td>\n",
       "      <td>NaN</td>\n",
       "      <td>NaN</td>\n",
       "      <td>...</td>\n",
       "      <td>NaN</td>\n",
       "      <td>NaN</td>\n",
       "      <td>NaN</td>\n",
       "      <td>NaN</td>\n",
       "      <td>NaN</td>\n",
       "      <td>NaN</td>\n",
       "      <td>NaN</td>\n",
       "      <td>NaN</td>\n",
       "      <td>NaN</td>\n",
       "      <td>NaN</td>\n",
       "    </tr>\n",
       "    <tr>\n",
       "      <th>4</th>\n",
       "      <td>Bristol</td>\n",
       "      <td>US-CT</td>\n",
       "      <td>41.671800</td>\n",
       "      <td>-72.949500</td>\n",
       "      <td>1901</td>\n",
       "      <td>1900-12-25</td>\n",
       "      <td>2.0</td>\n",
       "      <td>NaN</td>\n",
       "      <td>NaN</td>\n",
       "      <td>NaN</td>\n",
       "      <td>...</td>\n",
       "      <td>NaN</td>\n",
       "      <td>NaN</td>\n",
       "      <td>NaN</td>\n",
       "      <td>NaN</td>\n",
       "      <td>NaN</td>\n",
       "      <td>NaN</td>\n",
       "      <td>NaN</td>\n",
       "      <td>NaN</td>\n",
       "      <td>NaN</td>\n",
       "      <td>NaN</td>\n",
       "    </tr>\n",
       "  </tbody>\n",
       "</table>\n",
       "<p>5 rows × 40 columns</p>\n",
       "</div>"
      ],
      "text/plain": [
       "     circle_name country_state        lat         lon  count_year  count_date  \\\n",
       "0    Scotch Lake         CA-NB  45.950000  -66.983300        1901  1900-12-25   \n",
       "1        Toronto         CA-ON  43.700000  -79.416700        1901  1900-12-25   \n",
       "2  Pacific Grove         US-CA  36.616700 -121.916700        1901  1900-12-25   \n",
       "3         Pueblo         US-CO  38.175251 -104.519575        1901  1900-12-25   \n",
       "4        Bristol         US-CT  41.671800  -72.949500        1901  1900-12-25   \n",
       "\n",
       "   n_field_counters  n_feeder_counters  min_field_parties  max_field_parties  \\\n",
       "0               1.0                NaN                NaN                NaN   \n",
       "1               1.0                NaN                NaN                NaN   \n",
       "2               1.0                NaN                NaN                NaN   \n",
       "3               1.0                NaN                NaN                NaN   \n",
       "4               2.0                NaN                NaN                NaN   \n",
       "\n",
       "   ...  pm_snow  field_distance_imperial  field_distance_metric  \\\n",
       "0  ...      NaN                      NaN                    NaN   \n",
       "1  ...      NaN                      NaN                    NaN   \n",
       "2  ...      NaN                      NaN                    NaN   \n",
       "3  ...      NaN                      NaN                    NaN   \n",
       "4  ...      NaN                      NaN                    NaN   \n",
       "\n",
       "   nocturnal_distance_imperial  nocturnal_distance_metric min_snow_imperial  \\\n",
       "0                          NaN                        NaN               NaN   \n",
       "1                          NaN                        NaN               NaN   \n",
       "2                          NaN                        NaN               NaN   \n",
       "3                          NaN                        NaN               NaN   \n",
       "4                          NaN                        NaN               NaN   \n",
       "\n",
       "   min_snow_metric  max_snow_metric  max_snow_imperial  min_temp_imperial  \n",
       "0              NaN              NaN                NaN                NaN  \n",
       "1              NaN              NaN                NaN                NaN  \n",
       "2              NaN              NaN                NaN                NaN  \n",
       "3              NaN              NaN                NaN                NaN  \n",
       "4              NaN              NaN                NaN                NaN  \n",
       "\n",
       "[5 rows x 40 columns]"
      ]
     },
     "execution_count": 47,
     "metadata": {},
     "output_type": "execute_result"
    }
   ],
   "source": [
    "df['min_temp_imperial'] = np.where(df['temp_unit']==2, df['min_temp'], (df['min_temp']+32)*9/5)\n",
    "df.head()"
   ]
  },
  {
   "cell_type": "code",
   "execution_count": 48,
   "metadata": {},
   "outputs": [],
   "source": [
    "df['max_temp_imperial'] = np.where(df['temp_unit']==2, df['max_temp'], (df['max_temp']+32)*9/5)"
   ]
  },
  {
   "cell_type": "code",
   "execution_count": 49,
   "metadata": {},
   "outputs": [
    {
     "data": {
      "text/html": [
       "<div>\n",
       "<style scoped>\n",
       "    .dataframe tbody tr th:only-of-type {\n",
       "        vertical-align: middle;\n",
       "    }\n",
       "\n",
       "    .dataframe tbody tr th {\n",
       "        vertical-align: top;\n",
       "    }\n",
       "\n",
       "    .dataframe thead th {\n",
       "        text-align: right;\n",
       "    }\n",
       "</style>\n",
       "<table border=\"1\" class=\"dataframe\">\n",
       "  <thead>\n",
       "    <tr style=\"text-align: right;\">\n",
       "      <th></th>\n",
       "      <th>circle_name</th>\n",
       "      <th>country_state</th>\n",
       "      <th>lat</th>\n",
       "      <th>lon</th>\n",
       "      <th>count_year</th>\n",
       "      <th>count_date</th>\n",
       "      <th>n_field_counters</th>\n",
       "      <th>n_feeder_counters</th>\n",
       "      <th>min_field_parties</th>\n",
       "      <th>max_field_parties</th>\n",
       "      <th>...</th>\n",
       "      <th>field_distance_imperial</th>\n",
       "      <th>field_distance_metric</th>\n",
       "      <th>nocturnal_distance_imperial</th>\n",
       "      <th>nocturnal_distance_metric</th>\n",
       "      <th>min_snow_imperial</th>\n",
       "      <th>min_snow_metric</th>\n",
       "      <th>max_snow_metric</th>\n",
       "      <th>max_snow_imperial</th>\n",
       "      <th>min_temp_imperial</th>\n",
       "      <th>max_temp_imperial</th>\n",
       "    </tr>\n",
       "  </thead>\n",
       "  <tbody>\n",
       "    <tr>\n",
       "      <th>106924</th>\n",
       "      <td>Sundance</td>\n",
       "      <td>US-WY</td>\n",
       "      <td>44.208072</td>\n",
       "      <td>-104.227101</td>\n",
       "      <td>2018</td>\n",
       "      <td>2017-12-30</td>\n",
       "      <td>4.0</td>\n",
       "      <td>12.0</td>\n",
       "      <td>3.0</td>\n",
       "      <td>3.0</td>\n",
       "      <td>...</td>\n",
       "      <td>233.7</td>\n",
       "      <td>145.22118</td>\n",
       "      <td>NaN</td>\n",
       "      <td>NaN</td>\n",
       "      <td>1.0</td>\n",
       "      <td>2.54</td>\n",
       "      <td>10.16</td>\n",
       "      <td>4.0</td>\n",
       "      <td>5.0</td>\n",
       "      <td>25.0</td>\n",
       "    </tr>\n",
       "    <tr>\n",
       "      <th>106925</th>\n",
       "      <td>Tortola, British V.I.</td>\n",
       "      <td>VG-</td>\n",
       "      <td>18.350191</td>\n",
       "      <td>-64.616712</td>\n",
       "      <td>2018</td>\n",
       "      <td>2017-12-30</td>\n",
       "      <td>2.0</td>\n",
       "      <td>NaN</td>\n",
       "      <td>NaN</td>\n",
       "      <td>2.0</td>\n",
       "      <td>...</td>\n",
       "      <td>21.0</td>\n",
       "      <td>13.04940</td>\n",
       "      <td>NaN</td>\n",
       "      <td>NaN</td>\n",
       "      <td>NaN</td>\n",
       "      <td>NaN</td>\n",
       "      <td>NaN</td>\n",
       "      <td>NaN</td>\n",
       "      <td>77.0</td>\n",
       "      <td>84.0</td>\n",
       "    </tr>\n",
       "    <tr>\n",
       "      <th>106926</th>\n",
       "      <td>East End, St. Croix, USVI</td>\n",
       "      <td>VI-</td>\n",
       "      <td>17.757222</td>\n",
       "      <td>-64.560191</td>\n",
       "      <td>2018</td>\n",
       "      <td>2017-12-17</td>\n",
       "      <td>17.0</td>\n",
       "      <td>NaN</td>\n",
       "      <td>NaN</td>\n",
       "      <td>7.0</td>\n",
       "      <td>...</td>\n",
       "      <td>237.0</td>\n",
       "      <td>147.27180</td>\n",
       "      <td>NaN</td>\n",
       "      <td>NaN</td>\n",
       "      <td>NaN</td>\n",
       "      <td>NaN</td>\n",
       "      <td>NaN</td>\n",
       "      <td>NaN</td>\n",
       "      <td>78.0</td>\n",
       "      <td>85.0</td>\n",
       "    </tr>\n",
       "    <tr>\n",
       "      <th>106927</th>\n",
       "      <td>St. Croix, USVI</td>\n",
       "      <td>VI-</td>\n",
       "      <td>17.716794</td>\n",
       "      <td>-64.783308</td>\n",
       "      <td>2018</td>\n",
       "      <td>2017-12-17</td>\n",
       "      <td>19.0</td>\n",
       "      <td>NaN</td>\n",
       "      <td>NaN</td>\n",
       "      <td>10.0</td>\n",
       "      <td>...</td>\n",
       "      <td>225.6</td>\n",
       "      <td>140.18784</td>\n",
       "      <td>NaN</td>\n",
       "      <td>NaN</td>\n",
       "      <td>NaN</td>\n",
       "      <td>NaN</td>\n",
       "      <td>NaN</td>\n",
       "      <td>NaN</td>\n",
       "      <td>78.0</td>\n",
       "      <td>85.0</td>\n",
       "    </tr>\n",
       "    <tr>\n",
       "      <th>106928</th>\n",
       "      <td>St. John, USVI</td>\n",
       "      <td>VI-</td>\n",
       "      <td>18.350191</td>\n",
       "      <td>-64.700021</td>\n",
       "      <td>2018</td>\n",
       "      <td>2017-12-23</td>\n",
       "      <td>24.0</td>\n",
       "      <td>NaN</td>\n",
       "      <td>16.0</td>\n",
       "      <td>16.0</td>\n",
       "      <td>...</td>\n",
       "      <td>18.0</td>\n",
       "      <td>11.18520</td>\n",
       "      <td>NaN</td>\n",
       "      <td>NaN</td>\n",
       "      <td>NaN</td>\n",
       "      <td>NaN</td>\n",
       "      <td>NaN</td>\n",
       "      <td>NaN</td>\n",
       "      <td>73.0</td>\n",
       "      <td>85.0</td>\n",
       "    </tr>\n",
       "  </tbody>\n",
       "</table>\n",
       "<p>5 rows × 41 columns</p>\n",
       "</div>"
      ],
      "text/plain": [
       "                      circle_name country_state        lat         lon  \\\n",
       "106924                   Sundance         US-WY  44.208072 -104.227101   \n",
       "106925      Tortola, British V.I.           VG-  18.350191  -64.616712   \n",
       "106926  East End, St. Croix, USVI           VI-  17.757222  -64.560191   \n",
       "106927            St. Croix, USVI           VI-  17.716794  -64.783308   \n",
       "106928             St. John, USVI           VI-  18.350191  -64.700021   \n",
       "\n",
       "        count_year  count_date  n_field_counters  n_feeder_counters  \\\n",
       "106924        2018  2017-12-30               4.0               12.0   \n",
       "106925        2018  2017-12-30               2.0                NaN   \n",
       "106926        2018  2017-12-17              17.0                NaN   \n",
       "106927        2018  2017-12-17              19.0                NaN   \n",
       "106928        2018  2017-12-23              24.0                NaN   \n",
       "\n",
       "        min_field_parties  max_field_parties  ...  field_distance_imperial  \\\n",
       "106924                3.0                3.0  ...                    233.7   \n",
       "106925                NaN                2.0  ...                     21.0   \n",
       "106926                NaN                7.0  ...                    237.0   \n",
       "106927                NaN               10.0  ...                    225.6   \n",
       "106928               16.0               16.0  ...                     18.0   \n",
       "\n",
       "        field_distance_metric  nocturnal_distance_imperial  \\\n",
       "106924              145.22118                          NaN   \n",
       "106925               13.04940                          NaN   \n",
       "106926              147.27180                          NaN   \n",
       "106927              140.18784                          NaN   \n",
       "106928               11.18520                          NaN   \n",
       "\n",
       "        nocturnal_distance_metric  min_snow_imperial min_snow_metric  \\\n",
       "106924                        NaN                1.0            2.54   \n",
       "106925                        NaN                NaN             NaN   \n",
       "106926                        NaN                NaN             NaN   \n",
       "106927                        NaN                NaN             NaN   \n",
       "106928                        NaN                NaN             NaN   \n",
       "\n",
       "        max_snow_metric  max_snow_imperial  min_temp_imperial  \\\n",
       "106924            10.16                4.0                5.0   \n",
       "106925              NaN                NaN               77.0   \n",
       "106926              NaN                NaN               78.0   \n",
       "106927              NaN                NaN               78.0   \n",
       "106928              NaN                NaN               73.0   \n",
       "\n",
       "        max_temp_imperial  \n",
       "106924               25.0  \n",
       "106925               84.0  \n",
       "106926               85.0  \n",
       "106927               85.0  \n",
       "106928               85.0  \n",
       "\n",
       "[5 rows x 41 columns]"
      ]
     },
     "execution_count": 49,
     "metadata": {},
     "output_type": "execute_result"
    }
   ],
   "source": [
    "df.tail()"
   ]
  },
  {
   "cell_type": "code",
   "execution_count": 50,
   "metadata": {},
   "outputs": [],
   "source": [
    "df['min_temp_metric'] = np.where(df['temp_unit']==1, df['min_temp'], (df['min_temp']-32)*5/9)"
   ]
  },
  {
   "cell_type": "code",
   "execution_count": 51,
   "metadata": {},
   "outputs": [],
   "source": [
    "df['max_temp_metric'] = np.where(df['temp_unit']==1, df['max_temp'], (df['max_temp']-32)*5/9)"
   ]
  },
  {
   "cell_type": "code",
   "execution_count": 52,
   "metadata": {},
   "outputs": [
    {
     "data": {
      "text/html": [
       "<div>\n",
       "<style scoped>\n",
       "    .dataframe tbody tr th:only-of-type {\n",
       "        vertical-align: middle;\n",
       "    }\n",
       "\n",
       "    .dataframe tbody tr th {\n",
       "        vertical-align: top;\n",
       "    }\n",
       "\n",
       "    .dataframe thead th {\n",
       "        text-align: right;\n",
       "    }\n",
       "</style>\n",
       "<table border=\"1\" class=\"dataframe\">\n",
       "  <thead>\n",
       "    <tr style=\"text-align: right;\">\n",
       "      <th></th>\n",
       "      <th>circle_name</th>\n",
       "      <th>country_state</th>\n",
       "      <th>lat</th>\n",
       "      <th>lon</th>\n",
       "      <th>count_year</th>\n",
       "      <th>count_date</th>\n",
       "      <th>n_field_counters</th>\n",
       "      <th>n_feeder_counters</th>\n",
       "      <th>min_field_parties</th>\n",
       "      <th>max_field_parties</th>\n",
       "      <th>...</th>\n",
       "      <th>nocturnal_distance_imperial</th>\n",
       "      <th>nocturnal_distance_metric</th>\n",
       "      <th>min_snow_imperial</th>\n",
       "      <th>min_snow_metric</th>\n",
       "      <th>max_snow_metric</th>\n",
       "      <th>max_snow_imperial</th>\n",
       "      <th>min_temp_imperial</th>\n",
       "      <th>max_temp_imperial</th>\n",
       "      <th>min_temp_metric</th>\n",
       "      <th>max_temp_metric</th>\n",
       "    </tr>\n",
       "  </thead>\n",
       "  <tbody>\n",
       "    <tr>\n",
       "      <th>5778</th>\n",
       "      <td>Hope</td>\n",
       "      <td>US-AR</td>\n",
       "      <td>33.666700</td>\n",
       "      <td>-93.583300</td>\n",
       "      <td>1938</td>\n",
       "      <td>1937-12-24</td>\n",
       "      <td>2.0</td>\n",
       "      <td>0.0</td>\n",
       "      <td>1.0</td>\n",
       "      <td>1.0</td>\n",
       "      <td>...</td>\n",
       "      <td>0.0</td>\n",
       "      <td>0.0</td>\n",
       "      <td>NaN</td>\n",
       "      <td>NaN</td>\n",
       "      <td>NaN</td>\n",
       "      <td>NaN</td>\n",
       "      <td>NaN</td>\n",
       "      <td>NaN</td>\n",
       "      <td>NaN</td>\n",
       "      <td>NaN</td>\n",
       "    </tr>\n",
       "    <tr>\n",
       "      <th>5964</th>\n",
       "      <td>Hope</td>\n",
       "      <td>US-AR</td>\n",
       "      <td>33.666700</td>\n",
       "      <td>-93.583300</td>\n",
       "      <td>1939</td>\n",
       "      <td>1938-12-28</td>\n",
       "      <td>1.0</td>\n",
       "      <td>0.0</td>\n",
       "      <td>1.0</td>\n",
       "      <td>1.0</td>\n",
       "      <td>...</td>\n",
       "      <td>0.0</td>\n",
       "      <td>0.0</td>\n",
       "      <td>0.0</td>\n",
       "      <td>0.0</td>\n",
       "      <td>0.0</td>\n",
       "      <td>0.0</td>\n",
       "      <td>55.0</td>\n",
       "      <td>60.0</td>\n",
       "      <td>12.777778</td>\n",
       "      <td>15.555556</td>\n",
       "    </tr>\n",
       "    <tr>\n",
       "      <th>6171</th>\n",
       "      <td>Hope</td>\n",
       "      <td>US-AR</td>\n",
       "      <td>33.666700</td>\n",
       "      <td>-93.583300</td>\n",
       "      <td>1940</td>\n",
       "      <td>1939-12-26</td>\n",
       "      <td>1.0</td>\n",
       "      <td>0.0</td>\n",
       "      <td>1.0</td>\n",
       "      <td>1.0</td>\n",
       "      <td>...</td>\n",
       "      <td>0.0</td>\n",
       "      <td>0.0</td>\n",
       "      <td>0.0</td>\n",
       "      <td>0.0</td>\n",
       "      <td>0.0</td>\n",
       "      <td>0.0</td>\n",
       "      <td>40.0</td>\n",
       "      <td>40.0</td>\n",
       "      <td>4.444444</td>\n",
       "      <td>4.444444</td>\n",
       "    </tr>\n",
       "    <tr>\n",
       "      <th>6439</th>\n",
       "      <td>Hope</td>\n",
       "      <td>US-AR</td>\n",
       "      <td>33.666700</td>\n",
       "      <td>-93.583300</td>\n",
       "      <td>1941</td>\n",
       "      <td>1940-12-28</td>\n",
       "      <td>1.0</td>\n",
       "      <td>0.0</td>\n",
       "      <td>1.0</td>\n",
       "      <td>1.0</td>\n",
       "      <td>...</td>\n",
       "      <td>0.0</td>\n",
       "      <td>0.0</td>\n",
       "      <td>0.0</td>\n",
       "      <td>0.0</td>\n",
       "      <td>0.0</td>\n",
       "      <td>0.0</td>\n",
       "      <td>52.0</td>\n",
       "      <td>60.0</td>\n",
       "      <td>11.111111</td>\n",
       "      <td>15.555556</td>\n",
       "    </tr>\n",
       "    <tr>\n",
       "      <th>6724</th>\n",
       "      <td>Barrie</td>\n",
       "      <td>CA-ON</td>\n",
       "      <td>44.362021</td>\n",
       "      <td>-79.745518</td>\n",
       "      <td>1942</td>\n",
       "      <td>1941-12-26</td>\n",
       "      <td>2.0</td>\n",
       "      <td>0.0</td>\n",
       "      <td>1.0</td>\n",
       "      <td>1.0</td>\n",
       "      <td>...</td>\n",
       "      <td>0.0</td>\n",
       "      <td>0.0</td>\n",
       "      <td>NaN</td>\n",
       "      <td>NaN</td>\n",
       "      <td>NaN</td>\n",
       "      <td>NaN</td>\n",
       "      <td>NaN</td>\n",
       "      <td>NaN</td>\n",
       "      <td>NaN</td>\n",
       "      <td>NaN</td>\n",
       "    </tr>\n",
       "  </tbody>\n",
       "</table>\n",
       "<p>5 rows × 43 columns</p>\n",
       "</div>"
      ],
      "text/plain": [
       "     circle_name country_state        lat        lon  count_year  count_date  \\\n",
       "5778        Hope         US-AR  33.666700 -93.583300        1938  1937-12-24   \n",
       "5964        Hope         US-AR  33.666700 -93.583300        1939  1938-12-28   \n",
       "6171        Hope         US-AR  33.666700 -93.583300        1940  1939-12-26   \n",
       "6439        Hope         US-AR  33.666700 -93.583300        1941  1940-12-28   \n",
       "6724      Barrie         CA-ON  44.362021 -79.745518        1942  1941-12-26   \n",
       "\n",
       "      n_field_counters  n_feeder_counters  min_field_parties  \\\n",
       "5778               2.0                0.0                1.0   \n",
       "5964               1.0                0.0                1.0   \n",
       "6171               1.0                0.0                1.0   \n",
       "6439               1.0                0.0                1.0   \n",
       "6724               2.0                0.0                1.0   \n",
       "\n",
       "      max_field_parties  ...  nocturnal_distance_imperial  \\\n",
       "5778                1.0  ...                          0.0   \n",
       "5964                1.0  ...                          0.0   \n",
       "6171                1.0  ...                          0.0   \n",
       "6439                1.0  ...                          0.0   \n",
       "6724                1.0  ...                          0.0   \n",
       "\n",
       "      nocturnal_distance_metric  min_snow_imperial  min_snow_metric  \\\n",
       "5778                        0.0                NaN              NaN   \n",
       "5964                        0.0                0.0              0.0   \n",
       "6171                        0.0                0.0              0.0   \n",
       "6439                        0.0                0.0              0.0   \n",
       "6724                        0.0                NaN              NaN   \n",
       "\n",
       "      max_snow_metric max_snow_imperial  min_temp_imperial  max_temp_imperial  \\\n",
       "5778              NaN               NaN                NaN                NaN   \n",
       "5964              0.0               0.0               55.0               60.0   \n",
       "6171              0.0               0.0               40.0               40.0   \n",
       "6439              0.0               0.0               52.0               60.0   \n",
       "6724              NaN               NaN                NaN                NaN   \n",
       "\n",
       "      min_temp_metric  max_temp_metric  \n",
       "5778              NaN              NaN  \n",
       "5964        12.777778        15.555556  \n",
       "6171         4.444444         4.444444  \n",
       "6439        11.111111        15.555556  \n",
       "6724              NaN              NaN  \n",
       "\n",
       "[5 rows x 43 columns]"
      ]
     },
     "execution_count": 52,
     "metadata": {},
     "output_type": "execute_result"
    }
   ],
   "source": [
    "df[df.loc[:, 'temp_unit']==2].head()"
   ]
  },
  {
   "cell_type": "code",
   "execution_count": 53,
   "metadata": {},
   "outputs": [
    {
     "data": {
      "text/plain": [
       "10.0    14290\n",
       "5.0     12260\n",
       "15.0    10741\n",
       "0.0      6977\n",
       "20.0     6264\n",
       "Name: max_wind, dtype: int64"
      ]
     },
     "execution_count": 53,
     "metadata": {},
     "output_type": "execute_result"
    }
   ],
   "source": [
    "df['max_wind'].value_counts().sort_values(ascending=False).head()"
   ]
  },
  {
   "cell_type": "code",
   "execution_count": 54,
   "metadata": {},
   "outputs": [
    {
     "name": "stdout",
     "output_type": "stream",
     "text": [
      "<class 'pandas.core.frame.DataFrame'>\n",
      "Int64Index: 106925 entries, 0 to 106928\n",
      "Data columns (total 43 columns):\n",
      "circle_name                    106925 non-null object\n",
      "country_state                  106925 non-null object\n",
      "lat                            106925 non-null float64\n",
      "lon                            106925 non-null float64\n",
      "count_year                     106925 non-null int64\n",
      "count_date                     106925 non-null object\n",
      "n_field_counters               106707 non-null float64\n",
      "n_feeder_counters              50575 non-null float64\n",
      "min_field_parties              56210 non-null float64\n",
      "max_field_parties              57093 non-null float64\n",
      "field_hours                    97024 non-null float64\n",
      "feeder_hours                   61910 non-null float64\n",
      "nocturnal_hours                58526 non-null float64\n",
      "field_distance                 98802 non-null float64\n",
      "nocturnal_distance             53193 non-null float64\n",
      "distance_units                 106597 non-null object\n",
      "min_temp                       82436 non-null float64\n",
      "max_temp                       82420 non-null float64\n",
      "temp_unit                      57026 non-null float64\n",
      "min_wind                       80027 non-null float64\n",
      "max_wind                       80109 non-null float64\n",
      "wind_unit                      57026 non-null float64\n",
      "min_snow                       76936 non-null float64\n",
      "max_snow                       77165 non-null float64\n",
      "snow_unit                      53379 non-null float64\n",
      "am_cloud                       82396 non-null float64\n",
      "pm_cloud                       82268 non-null float64\n",
      "am_rain                        81682 non-null object\n",
      "pm_rain                        81582 non-null object\n",
      "am_snow                        81484 non-null object\n",
      "pm_snow                        81410 non-null object\n",
      "field_distance_imperial        98802 non-null float64\n",
      "field_distance_metric          98802 non-null float64\n",
      "nocturnal_distance_imperial    53193 non-null float64\n",
      "nocturnal_distance_metric      53193 non-null float64\n",
      "min_snow_imperial              76936 non-null float64\n",
      "min_snow_metric                76936 non-null float64\n",
      "max_snow_metric                77165 non-null float64\n",
      "max_snow_imperial              77165 non-null float64\n",
      "min_temp_imperial              82436 non-null float64\n",
      "max_temp_imperial              82420 non-null float64\n",
      "min_temp_metric                82436 non-null float64\n",
      "max_temp_metric                82420 non-null float64\n",
      "dtypes: float64(34), int64(1), object(8)\n",
      "memory usage: 35.9+ MB\n"
     ]
    }
   ],
   "source": [
    "raw_data.info()"
   ]
  },
  {
   "cell_type": "markdown",
   "metadata": {},
   "source": [
    "# Examine numeric values"
   ]
  },
  {
   "cell_type": "markdown",
   "metadata": {},
   "source": [
    "field_distance             float64\n",
    "snow_unit                  float64\n",
    "max_snow                   float64\n",
    "min_snow                   float64\n",
    "wind_unit                  float64\n",
    "max_wind                   float64\n",
    "min_wind                   float64\n",
    "temp_unit                  float64\n",
    "max_temp                   float64\n",
    "min_temp                   float64\n",
    "nocturnal_distance         float64\n",
    "pm_cloud                   float64\n",
    "nocturl_hours              float64\n",
    "feeder_hours               float64\n",
    "field_hours                float64\n",
    "max_field_count_parties    float64\n",
    "min_field_count_parties    float64\n",
    "n_feeder_counters          float64\n",
    "n_field_counters           float64\n",
    "lon                        float64\n",
    "lat                        float64\n",
    "am_cloud                   float64"
   ]
  },
  {
   "cell_type": "markdown",
   "metadata": {},
   "source": [
    "### Snow"
   ]
  },
  {
   "cell_type": "code",
   "execution_count": 55,
   "metadata": {
    "collapsed": false
   },
   "outputs": [
    {
     "data": {
      "text/plain": [
       "2.0    47850\n",
       "4.0     5529\n",
       "Name: snow_unit, dtype: int64"
      ]
     },
     "execution_count": 55,
     "metadata": {},
     "output_type": "execute_result"
    }
   ],
   "source": [
    "#Variables of interest: snow_unit, max_snow, min_snow\n",
    "raw_data['snow_unit'].value_counts()"
   ]
  },
  {
   "cell_type": "code",
   "execution_count": 56,
   "metadata": {
    "collapsed": false
   },
   "outputs": [
    {
     "data": {
      "text/plain": [
       "5778    NaN\n",
       "5964    0.0\n",
       "6171    0.0\n",
       "6439    0.0\n",
       "6724    NaN\n",
       "Name: max_snow, dtype: float64"
      ]
     },
     "execution_count": 56,
     "metadata": {},
     "output_type": "execute_result"
    }
   ],
   "source": [
    "raw_data.loc[raw_data[\"snow_unit\"] == 2.0, \"max_snow\"].head()"
   ]
  },
  {
   "cell_type": "code",
   "execution_count": 57,
   "metadata": {
    "collapsed": false
   },
   "outputs": [
    {
     "data": {
      "text/plain": [
       "35147     1.0\n",
       "62846    10.0\n",
       "62853    12.0\n",
       "62867    18.0\n",
       "62869    11.0\n",
       "Name: max_snow, dtype: float64"
      ]
     },
     "execution_count": 57,
     "metadata": {},
     "output_type": "execute_result"
    }
   ],
   "source": [
    "raw_data.loc[raw_data[\"snow_unit\"] == 4.0, \"max_snow\"].head()"
   ]
  },
  {
   "cell_type": "code",
   "execution_count": 58,
   "metadata": {
    "collapsed": true
   },
   "outputs": [],
   "source": [
    "#Clearly 4.0 means something different? For now set to Nan\n",
    "raw_data.loc[raw_data[\"snow_unit\"] == 4.0, [\"min_snow\", \"max_snow\"]] = np.NaN"
   ]
  },
  {
   "cell_type": "code",
   "execution_count": 59,
   "metadata": {
    "collapsed": false
   },
   "outputs": [
    {
     "data": {
      "image/png": "[encoded data removed]",
      "text/plain": [
       "<Figure size 432x288 with 1 Axes>"
      ]
     },
     "metadata": {
      "needs_background": "light"
     },
     "output_type": "display_data"
    }
   ],
   "source": [
    "#Examine distribution - is mean or median better for this\n",
    "sns.distplot(raw_data.loc[raw_data[\"min_snow\"].isnull() == False][\"min_snow\"]);"
   ]
  },
  {
   "cell_type": "code",
   "execution_count": 60,
   "metadata": {
    "collapsed": false
   },
   "outputs": [
    {
     "data": {
      "image/png": "[encoded data removed]",
      "text/plain": [
       "<Figure size 432x288 with 1 Axes>"
      ]
     },
     "metadata": {
      "needs_background": "light"
     },
     "output_type": "display_data"
    }
   ],
   "source": [
    "sns.distplot(raw_data.loc[raw_data[\"max_snow\"].isnull() == False][\"max_snow\"]);"
   ]
  },
  {
   "cell_type": "code",
   "execution_count": 61,
   "metadata": {
    "collapsed": true
   },
   "outputs": [],
   "source": [
    "#Contains outliers so we will replace with 0 assuming no snow happened if it wasn't recorded\n",
    "raw_data[\"min_snow\"] = raw_data[\"min_snow\"].fillna(0)\n",
    "raw_data[\"max_snow\"] = raw_data[\"max_snow\"].fillna(0)"
   ]
  },
  {
   "cell_type": "code",
   "execution_count": null,
   "metadata": {
    "collapsed": true
   },
   "outputs": [],
   "source": []
  },
  {
   "cell_type": "code",
   "execution_count": 62,
   "metadata": {
    "collapsed": false
   },
   "outputs": [
    {
     "data": {
      "image/png": "[encoded data removed]",
      "text/plain": [
       "<Figure size 432x288 with 1 Axes>"
      ]
     },
     "metadata": {
      "needs_background": "light"
     },
     "output_type": "display_data"
    }
   ],
   "source": [
    "#Graph against time\n",
    "#seaborn lineplot not integrated into latest version of conda\n",
    "plt.plot(raw_data[\"count_year\"], raw_data[\"min_snow\"]);"
   ]
  },
  {
   "cell_type": "code",
   "execution_count": 63,
   "metadata": {
    "collapsed": false
   },
   "outputs": [
    {
     "data": {
      "image/png": "[encoded data removed]",
      "text/plain": [
       "<Figure size 432x288 with 1 Axes>"
      ]
     },
     "metadata": {
      "needs_background": "light"
     },
     "output_type": "display_data"
    }
   ],
   "source": [
    "plt.plot(raw_data[\"count_year\"], raw_data[\"max_snow\"]);"
   ]
  },
  {
   "cell_type": "code",
   "execution_count": 64,
   "metadata": {
    "collapsed": false
   },
   "outputs": [
    {
     "data": {
      "text/plain": [
       "count    106925.000000\n",
       "mean          1.159222\n",
       "std           4.118032\n",
       "min           0.000000\n",
       "25%           0.000000\n",
       "50%           0.000000\n",
       "75%           0.000000\n",
       "max         600.000000\n",
       "Name: min_snow, dtype: float64"
      ]
     },
     "execution_count": 64,
     "metadata": {},
     "output_type": "execute_result"
    }
   ],
   "source": [
    "raw_data[\"min_snow\"].describe()"
   ]
  },
  {
   "cell_type": "code",
   "execution_count": 65,
   "metadata": {
    "collapsed": false
   },
   "outputs": [
    {
     "data": {
      "text/plain": [
       "1883"
      ]
     },
     "execution_count": 65,
     "metadata": {},
     "output_type": "execute_result"
    }
   ],
   "source": [
    "#There are clearly some outliers, how many are there? \n",
    "len(raw_data[raw_data[\"min_snow\"] > (raw_data[\"min_snow\"].mean() + 3 * raw_data[\"min_snow\"].std())])"
   ]
  },
  {
   "cell_type": "code",
   "execution_count": 66,
   "metadata": {
    "collapsed": false
   },
   "outputs": [
    {
     "data": {
      "text/plain": [
       "1440"
      ]
     },
     "execution_count": 66,
     "metadata": {},
     "output_type": "execute_result"
    }
   ],
   "source": [
    "len(raw_data[raw_data[\"max_snow\"] > (raw_data[\"max_snow\"].mean() + 3 * raw_data[\"max_snow\"].std())])"
   ]
  },
  {
   "cell_type": "code",
   "execution_count": 67,
   "metadata": {
    "collapsed": false
   },
   "outputs": [
    {
     "data": {
      "image/png": "[encoded data removed]",
      "text/plain": [
       "<Figure size 432x288 with 1 Axes>"
      ]
     },
     "metadata": {
      "needs_background": "light"
     },
     "output_type": "display_data"
    }
   ],
   "source": [
    "temp = raw_data.loc[raw_data[\"max_snow\"] < (raw_data[\"max_snow\"].mean() + 3 * raw_data[\"max_snow\"].std()), :]\n",
    "plt.scatter(temp[\"count_year\"], temp[\"max_snow\"]);"
   ]
  },
  {
   "cell_type": "code",
   "execution_count": 68,
   "metadata": {
    "collapsed": true
   },
   "outputs": [],
   "source": [
    "#Very little relationship with time"
   ]
  },
  {
   "cell_type": "code",
   "execution_count": 69,
   "metadata": {
    "collapsed": true
   },
   "outputs": [],
   "source": [
    "#Create average snow variable\n",
    "raw_data[\"average_snow\"] = (raw_data[\"max_snow\"] + raw_data[\"min_snow\"]) / 2"
   ]
  },
  {
   "cell_type": "code",
   "execution_count": 70,
   "metadata": {
    "collapsed": false
   },
   "outputs": [
    {
     "data": {
      "text/plain": [
       "[<matplotlib.lines.Line2D at 0x12c813518>]"
      ]
     },
     "execution_count": 70,
     "metadata": {},
     "output_type": "execute_result"
    },
    {
     "data": {
      "image/png": "[encoded data removed]",
      "text/plain": [
       "<Figure size 432x288 with 1 Axes>"
      ]
     },
     "metadata": {
      "needs_background": "light"
     },
     "output_type": "display_data"
    }
   ],
   "source": [
    "plt.plot(raw_data[\"count_year\"], raw_data[\"average_snow\"])"
   ]
  },
  {
   "cell_type": "code",
   "execution_count": 71,
   "metadata": {
    "collapsed": false
   },
   "outputs": [
    {
     "data": {
      "text/html": [
       "<div>\n",
       "<style scoped>\n",
       "    .dataframe tbody tr th:only-of-type {\n",
       "        vertical-align: middle;\n",
       "    }\n",
       "\n",
       "    .dataframe tbody tr th {\n",
       "        vertical-align: top;\n",
       "    }\n",
       "\n",
       "    .dataframe thead th {\n",
       "        text-align: right;\n",
       "    }\n",
       "</style>\n",
       "<table border=\"1\" class=\"dataframe\">\n",
       "  <thead>\n",
       "    <tr style=\"text-align: right;\">\n",
       "      <th></th>\n",
       "      <th>circle_name</th>\n",
       "      <th>country_state</th>\n",
       "      <th>lat</th>\n",
       "      <th>lon</th>\n",
       "      <th>count_year</th>\n",
       "      <th>count_date</th>\n",
       "      <th>n_field_counters</th>\n",
       "      <th>n_feeder_counters</th>\n",
       "      <th>min_field_parties</th>\n",
       "      <th>max_field_parties</th>\n",
       "      <th>...</th>\n",
       "      <th>nocturnal_distance_metric</th>\n",
       "      <th>min_snow_imperial</th>\n",
       "      <th>min_snow_metric</th>\n",
       "      <th>max_snow_metric</th>\n",
       "      <th>max_snow_imperial</th>\n",
       "      <th>min_temp_imperial</th>\n",
       "      <th>max_temp_imperial</th>\n",
       "      <th>min_temp_metric</th>\n",
       "      <th>max_temp_metric</th>\n",
       "      <th>average_snow</th>\n",
       "    </tr>\n",
       "  </thead>\n",
       "  <tbody>\n",
       "    <tr>\n",
       "      <th>72688</th>\n",
       "      <td>Rankin Inlet</td>\n",
       "      <td>CA-NU</td>\n",
       "      <td>62.811923</td>\n",
       "      <td>-92.088074</td>\n",
       "      <td>2004</td>\n",
       "      <td>2003-12-28</td>\n",
       "      <td>1.0</td>\n",
       "      <td>0.0</td>\n",
       "      <td>1.0</td>\n",
       "      <td>1.0</td>\n",
       "      <td>...</td>\n",
       "      <td>0.0</td>\n",
       "      <td>0.0</td>\n",
       "      <td>0.0</td>\n",
       "      <td>988.06</td>\n",
       "      <td>389.0</td>\n",
       "      <td>-6.0</td>\n",
       "      <td>-4.0</td>\n",
       "      <td>-21.111111</td>\n",
       "      <td>-20.0</td>\n",
       "      <td>194.5</td>\n",
       "    </tr>\n",
       "    <tr>\n",
       "      <th>85888</th>\n",
       "      <td>Mono Lake</td>\n",
       "      <td>US-CA</td>\n",
       "      <td>37.956057</td>\n",
       "      <td>-119.120139</td>\n",
       "      <td>2010</td>\n",
       "      <td>2009-12-20</td>\n",
       "      <td>14.0</td>\n",
       "      <td>1.0</td>\n",
       "      <td>1.0</td>\n",
       "      <td>9.0</td>\n",
       "      <td>...</td>\n",
       "      <td>0.0</td>\n",
       "      <td>0.0</td>\n",
       "      <td>0.0</td>\n",
       "      <td>2032.00</td>\n",
       "      <td>800.0</td>\n",
       "      <td>8.0</td>\n",
       "      <td>41.0</td>\n",
       "      <td>-13.333333</td>\n",
       "      <td>5.0</td>\n",
       "      <td>400.0</td>\n",
       "    </tr>\n",
       "    <tr>\n",
       "      <th>97201</th>\n",
       "      <td>Baie-Missisquoi</td>\n",
       "      <td>CA-QC</td>\n",
       "      <td>45.103819</td>\n",
       "      <td>-73.114114</td>\n",
       "      <td>2015</td>\n",
       "      <td>2014-12-14</td>\n",
       "      <td>18.0</td>\n",
       "      <td>3.0</td>\n",
       "      <td>7.0</td>\n",
       "      <td>7.0</td>\n",
       "      <td>...</td>\n",
       "      <td>NaN</td>\n",
       "      <td>600.0</td>\n",
       "      <td>1524.0</td>\n",
       "      <td>2286.00</td>\n",
       "      <td>900.0</td>\n",
       "      <td>7.2</td>\n",
       "      <td>39.6</td>\n",
       "      <td>-28.000000</td>\n",
       "      <td>-10.0</td>\n",
       "      <td>750.0</td>\n",
       "    </tr>\n",
       "    <tr>\n",
       "      <th>97238</th>\n",
       "      <td>St-Jean-sur-le-Richelieu</td>\n",
       "      <td>CA-QC</td>\n",
       "      <td>45.309076</td>\n",
       "      <td>-73.242995</td>\n",
       "      <td>2015</td>\n",
       "      <td>2014-12-20</td>\n",
       "      <td>27.0</td>\n",
       "      <td>1.0</td>\n",
       "      <td>7.0</td>\n",
       "      <td>7.0</td>\n",
       "      <td>...</td>\n",
       "      <td>NaN</td>\n",
       "      <td>NaN</td>\n",
       "      <td>NaN</td>\n",
       "      <td>1524.00</td>\n",
       "      <td>600.0</td>\n",
       "      <td>-207.0</td>\n",
       "      <td>-118.8</td>\n",
       "      <td>-147.000000</td>\n",
       "      <td>-98.0</td>\n",
       "      <td>300.0</td>\n",
       "    </tr>\n",
       "    <tr>\n",
       "      <th>99690</th>\n",
       "      <td>Hudson</td>\n",
       "      <td>CA-QC</td>\n",
       "      <td>45.389610</td>\n",
       "      <td>-74.131862</td>\n",
       "      <td>2016</td>\n",
       "      <td>2015-12-27</td>\n",
       "      <td>44.0</td>\n",
       "      <td>12.0</td>\n",
       "      <td>44.0</td>\n",
       "      <td>44.0</td>\n",
       "      <td>...</td>\n",
       "      <td>NaN</td>\n",
       "      <td>300.0</td>\n",
       "      <td>762.0</td>\n",
       "      <td>1524.00</td>\n",
       "      <td>600.0</td>\n",
       "      <td>21.6</td>\n",
       "      <td>75.6</td>\n",
       "      <td>-20.000000</td>\n",
       "      <td>10.0</td>\n",
       "      <td>450.0</td>\n",
       "    </tr>\n",
       "  </tbody>\n",
       "</table>\n",
       "<p>5 rows × 44 columns</p>\n",
       "</div>"
      ],
      "text/plain": [
       "                    circle_name country_state        lat         lon  \\\n",
       "72688              Rankin Inlet         CA-NU  62.811923  -92.088074   \n",
       "85888                 Mono Lake         US-CA  37.956057 -119.120139   \n",
       "97201           Baie-Missisquoi         CA-QC  45.103819  -73.114114   \n",
       "97238  St-Jean-sur-le-Richelieu         CA-QC  45.309076  -73.242995   \n",
       "99690                    Hudson         CA-QC  45.389610  -74.131862   \n",
       "\n",
       "       count_year  count_date  n_field_counters  n_feeder_counters  \\\n",
       "72688        2004  2003-12-28               1.0                0.0   \n",
       "85888        2010  2009-12-20              14.0                1.0   \n",
       "97201        2015  2014-12-14              18.0                3.0   \n",
       "97238        2015  2014-12-20              27.0                1.0   \n",
       "99690        2016  2015-12-27              44.0               12.0   \n",
       "\n",
       "       min_field_parties  max_field_parties  ...  nocturnal_distance_metric  \\\n",
       "72688                1.0                1.0  ...                        0.0   \n",
       "85888                1.0                9.0  ...                        0.0   \n",
       "97201                7.0                7.0  ...                        NaN   \n",
       "97238                7.0                7.0  ...                        NaN   \n",
       "99690               44.0               44.0  ...                        NaN   \n",
       "\n",
       "       min_snow_imperial  min_snow_metric  max_snow_metric  max_snow_imperial  \\\n",
       "72688                0.0              0.0           988.06              389.0   \n",
       "85888                0.0              0.0          2032.00              800.0   \n",
       "97201              600.0           1524.0          2286.00              900.0   \n",
       "97238                NaN              NaN          1524.00              600.0   \n",
       "99690              300.0            762.0          1524.00              600.0   \n",
       "\n",
       "      min_temp_imperial  max_temp_imperial  min_temp_metric  max_temp_metric  \\\n",
       "72688              -6.0               -4.0       -21.111111            -20.0   \n",
       "85888               8.0               41.0       -13.333333              5.0   \n",
       "97201               7.2               39.6       -28.000000            -10.0   \n",
       "97238            -207.0             -118.8      -147.000000            -98.0   \n",
       "99690              21.6               75.6       -20.000000             10.0   \n",
       "\n",
       "       average_snow  \n",
       "72688         194.5  \n",
       "85888         400.0  \n",
       "97201         750.0  \n",
       "97238         300.0  \n",
       "99690         450.0  \n",
       "\n",
       "[5 rows x 44 columns]"
      ]
     },
     "execution_count": 71,
     "metadata": {},
     "output_type": "execute_result"
    }
   ],
   "source": [
    "raw_data[raw_data['average_snow'] > 150]"
   ]
  },
  {
   "cell_type": "code",
   "execution_count": 72,
   "metadata": {
    "collapsed": false
   },
   "outputs": [
    {
     "data": {
      "image/png": "[encoded data removed]",
      "text/plain": [
       "<Figure size 432x288 with 1 Axes>"
      ]
     },
     "metadata": {
      "needs_background": "light"
     },
     "output_type": "display_data"
    }
   ],
   "source": [
    "temp = raw_data.loc[raw_data[\"average_snow\"] < (raw_data[\"average_snow\"].mean() + 3 * raw_data[\"average_snow\"].std()), :]\n",
    "plt.scatter(temp[\"average_snow\"], temp[\"n_field_counters\"]);"
   ]
  },
  {
   "cell_type": "code",
   "execution_count": null,
   "metadata": {
    "collapsed": true
   },
   "outputs": [],
   "source": []
  },
  {
   "cell_type": "markdown",
   "metadata": {},
   "source": [
    "### Wind"
   ]
  },
  {
   "cell_type": "code",
   "execution_count": 73,
   "metadata": {
    "collapsed": false
   },
   "outputs": [
    {
     "data": {
      "text/plain": [
       "1.0    49636\n",
       "3.0     5902\n",
       "0.0     1488\n",
       "Name: wind_unit, dtype: int64"
      ]
     },
     "execution_count": 73,
     "metadata": {},
     "output_type": "execute_result"
    }
   ],
   "source": [
    "raw_data[\"wind_unit\"].value_counts()"
   ]
  },
  {
   "cell_type": "code",
   "execution_count": 74,
   "metadata": {
    "collapsed": false
   },
   "outputs": [
    {
     "data": {
      "text/plain": [
       "26898"
      ]
     },
     "execution_count": 74,
     "metadata": {},
     "output_type": "execute_result"
    }
   ],
   "source": [
    "raw_data[\"min_wind\"].isnull().sum()"
   ]
  },
  {
   "cell_type": "code",
   "execution_count": 75,
   "metadata": {
    "collapsed": false
   },
   "outputs": [
    {
     "data": {
      "text/plain": [
       "26816"
      ]
     },
     "execution_count": 75,
     "metadata": {},
     "output_type": "execute_result"
    }
   ],
   "source": [
    "raw_data[\"max_wind\"].isnull().sum()"
   ]
  },
  {
   "cell_type": "code",
   "execution_count": 76,
   "metadata": {
    "collapsed": false
   },
   "outputs": [
    {
     "data": {
      "text/plain": [
       "count    80027.000000\n",
       "mean         4.383454\n",
       "std          5.703883\n",
       "min        -16.000000\n",
       "25%          0.000000\n",
       "50%          3.000000\n",
       "75%          6.000000\n",
       "max         99.000000\n",
       "Name: min_wind, dtype: float64"
      ]
     },
     "execution_count": 76,
     "metadata": {},
     "output_type": "execute_result"
    }
   ],
   "source": [
    "raw_data[\"min_wind\"].describe()"
   ]
  },
  {
   "cell_type": "code",
   "execution_count": 77,
   "metadata": {
    "collapsed": false
   },
   "outputs": [
    {
     "data": {
      "text/plain": [
       "count    80109.000000\n",
       "mean        12.424563\n",
       "std         10.146659\n",
       "min          0.000000\n",
       "25%          5.000000\n",
       "50%         10.000000\n",
       "75%         15.000000\n",
       "max        500.000000\n",
       "Name: max_wind, dtype: float64"
      ]
     },
     "execution_count": 77,
     "metadata": {},
     "output_type": "execute_result"
    }
   ],
   "source": [
    "raw_data[\"max_wind\"].describe()"
   ]
  },
  {
   "cell_type": "code",
   "execution_count": 78,
   "metadata": {
    "collapsed": true
   },
   "outputs": [],
   "source": [
    "#How many outliers\n",
    "def GetBounds(ser):\n",
    "    lower = ser.mean() - 3 * ser.std()\n",
    "    upper = ser.mean() + 3 * ser.std()\n",
    "    return (lower, upper)"
   ]
  },
  {
   "cell_type": "code",
   "execution_count": 79,
   "metadata": {
    "collapsed": false
   },
   "outputs": [
    {
     "data": {
      "text/plain": [
       "1128"
      ]
     },
     "execution_count": 79,
     "metadata": {},
     "output_type": "execute_result"
    }
   ],
   "source": [
    "bounds = GetBounds(raw_data[\"min_wind\"])\n",
    "len(raw_data[(raw_data[\"min_wind\"] < bounds[0]) | (raw_data[\"min_wind\"] > bounds[1])])"
   ]
  },
  {
   "cell_type": "code",
   "execution_count": 80,
   "metadata": {
    "collapsed": false
   },
   "outputs": [
    {
     "data": {
      "text/plain": [
       "990"
      ]
     },
     "execution_count": 80,
     "metadata": {},
     "output_type": "execute_result"
    }
   ],
   "source": [
    "bounds = GetBounds(raw_data[\"max_wind\"])\n",
    "len(raw_data[(raw_data[\"max_wind\"] < bounds[0]) | (raw_data[\"max_wind\"] > bounds[1])])"
   ]
  },
  {
   "cell_type": "code",
   "execution_count": 81,
   "metadata": {
    "collapsed": true
   },
   "outputs": [],
   "source": [
    "raw_data['min_wind'] = raw_data['min_wind'].fillna(0)\n",
    "raw_data['max_wind'] = raw_data['max_wind'].fillna(0)"
   ]
  },
  {
   "cell_type": "code",
   "execution_count": 82,
   "metadata": {
    "collapsed": true
   },
   "outputs": [],
   "source": [
    "raw_data['average_wind'] = (raw_data['min_wind'] + raw_data['max_wind'])/2"
   ]
  },
  {
   "cell_type": "code",
   "execution_count": 83,
   "metadata": {
    "collapsed": false
   },
   "outputs": [
    {
     "data": {
      "text/plain": [
       "count    106925.000000\n",
       "mean          6.294664\n",
       "std           7.198332\n",
       "min           0.000000\n",
       "25%           0.000000\n",
       "50%           5.000000\n",
       "75%          10.000000\n",
       "max         267.500000\n",
       "Name: average_wind, dtype: float64"
      ]
     },
     "execution_count": 83,
     "metadata": {},
     "output_type": "execute_result"
    }
   ],
   "source": [
    "raw_data['average_wind'].describe()"
   ]
  },
  {
   "cell_type": "code",
   "execution_count": 84,
   "metadata": {
    "collapsed": false
   },
   "outputs": [
    {
     "data": {
      "text/plain": [
       "<matplotlib.axes._subplots.AxesSubplot at 0x10fe24358>"
      ]
     },
     "execution_count": 84,
     "metadata": {},
     "output_type": "execute_result"
    },
    {
     "data": {
      "image/png": "[encoded data removed]",
      "text/plain": [
       "<Figure size 432x288 with 1 Axes>"
      ]
     },
     "metadata": {
      "needs_background": "light"
     },
     "output_type": "display_data"
    }
   ],
   "source": [
    "raw_data['average_wind'].hist()"
   ]
  },
  {
   "cell_type": "code",
   "execution_count": 85,
   "metadata": {
    "collapsed": false
   },
   "outputs": [
    {
     "data": {
      "text/plain": [
       "[<matplotlib.lines.Line2D at 0x1110188d0>]"
      ]
     },
     "execution_count": 85,
     "metadata": {},
     "output_type": "execute_result"
    },
    {
     "data": {
      "image/png": "[encoded data removed]",
      "text/plain": [
       "<Figure size 432x288 with 1 Axes>"
      ]
     },
     "metadata": {
      "needs_background": "light"
     },
     "output_type": "display_data"
    }
   ],
   "source": [
    "#Oddly similar to average snow\n",
    "plt.plot(raw_data['count_year'], raw_data['average_wind'])"
   ]
  },
  {
   "cell_type": "code",
   "execution_count": 86,
   "metadata": {
    "collapsed": false
   },
   "outputs": [
    {
     "data": {
      "text/html": [
       "<div>\n",
       "<style scoped>\n",
       "    .dataframe tbody tr th:only-of-type {\n",
       "        vertical-align: middle;\n",
       "    }\n",
       "\n",
       "    .dataframe tbody tr th {\n",
       "        vertical-align: top;\n",
       "    }\n",
       "\n",
       "    .dataframe thead th {\n",
       "        text-align: right;\n",
       "    }\n",
       "</style>\n",
       "<table border=\"1\" class=\"dataframe\">\n",
       "  <thead>\n",
       "    <tr style=\"text-align: right;\">\n",
       "      <th></th>\n",
       "      <th>circle_name</th>\n",
       "      <th>country_state</th>\n",
       "      <th>lat</th>\n",
       "      <th>lon</th>\n",
       "      <th>count_year</th>\n",
       "      <th>count_date</th>\n",
       "      <th>n_field_counters</th>\n",
       "      <th>n_feeder_counters</th>\n",
       "      <th>min_field_parties</th>\n",
       "      <th>max_field_parties</th>\n",
       "      <th>...</th>\n",
       "      <th>min_snow_imperial</th>\n",
       "      <th>min_snow_metric</th>\n",
       "      <th>max_snow_metric</th>\n",
       "      <th>max_snow_imperial</th>\n",
       "      <th>min_temp_imperial</th>\n",
       "      <th>max_temp_imperial</th>\n",
       "      <th>min_temp_metric</th>\n",
       "      <th>max_temp_metric</th>\n",
       "      <th>average_snow</th>\n",
       "      <th>average_wind</th>\n",
       "    </tr>\n",
       "  </thead>\n",
       "  <tbody>\n",
       "    <tr>\n",
       "      <th>52458</th>\n",
       "      <td>Cape St. Mary's</td>\n",
       "      <td>CA-NL</td>\n",
       "      <td>46.866672</td>\n",
       "      <td>-54.083301</td>\n",
       "      <td>1993</td>\n",
       "      <td>1992-12-19</td>\n",
       "      <td>11.0</td>\n",
       "      <td>NaN</td>\n",
       "      <td>NaN</td>\n",
       "      <td>NaN</td>\n",
       "      <td>...</td>\n",
       "      <td>0.0</td>\n",
       "      <td>0.0</td>\n",
       "      <td>0.0</td>\n",
       "      <td>0.0</td>\n",
       "      <td>111.6</td>\n",
       "      <td>124.2</td>\n",
       "      <td>-1.111111</td>\n",
       "      <td>2.777778</td>\n",
       "      <td>0.0</td>\n",
       "      <td>165.0</td>\n",
       "    </tr>\n",
       "    <tr>\n",
       "      <th>72128</th>\n",
       "      <td>Spearfish</td>\n",
       "      <td>US-SD</td>\n",
       "      <td>44.519824</td>\n",
       "      <td>-103.864184</td>\n",
       "      <td>2003</td>\n",
       "      <td>2002-12-29</td>\n",
       "      <td>7.0</td>\n",
       "      <td>0.0</td>\n",
       "      <td>4.0</td>\n",
       "      <td>4.0</td>\n",
       "      <td>...</td>\n",
       "      <td>0.0</td>\n",
       "      <td>0.0</td>\n",
       "      <td>0.0</td>\n",
       "      <td>0.0</td>\n",
       "      <td>50.0</td>\n",
       "      <td>61.0</td>\n",
       "      <td>10.000000</td>\n",
       "      <td>16.111111</td>\n",
       "      <td>0.0</td>\n",
       "      <td>267.5</td>\n",
       "    </tr>\n",
       "  </tbody>\n",
       "</table>\n",
       "<p>2 rows × 45 columns</p>\n",
       "</div>"
      ],
      "text/plain": [
       "           circle_name country_state        lat         lon  count_year  \\\n",
       "52458  Cape St. Mary's         CA-NL  46.866672  -54.083301        1993   \n",
       "72128        Spearfish         US-SD  44.519824 -103.864184        2003   \n",
       "\n",
       "       count_date  n_field_counters  n_feeder_counters  min_field_parties  \\\n",
       "52458  1992-12-19              11.0                NaN                NaN   \n",
       "72128  2002-12-29               7.0                0.0                4.0   \n",
       "\n",
       "       max_field_parties  ...  min_snow_imperial  min_snow_metric  \\\n",
       "52458                NaN  ...                0.0              0.0   \n",
       "72128                4.0  ...                0.0              0.0   \n",
       "\n",
       "       max_snow_metric  max_snow_imperial  min_temp_imperial  \\\n",
       "52458              0.0                0.0              111.6   \n",
       "72128              0.0                0.0               50.0   \n",
       "\n",
       "      max_temp_imperial  min_temp_metric  max_temp_metric  average_snow  \\\n",
       "52458             124.2        -1.111111         2.777778           0.0   \n",
       "72128              61.0        10.000000        16.111111           0.0   \n",
       "\n",
       "       average_wind  \n",
       "52458         165.0  \n",
       "72128         267.5  \n",
       "\n",
       "[2 rows x 45 columns]"
      ]
     },
     "execution_count": 86,
     "metadata": {},
     "output_type": "execute_result"
    }
   ],
   "source": [
    "raw_data[raw_data[\"average_wind\"] > 150]"
   ]
  },
  {
   "cell_type": "code",
   "execution_count": 87,
   "metadata": {
    "collapsed": false
   },
   "outputs": [
    {
     "data": {
      "image/png": "[encoded data removed]",
      "text/plain": [
       "<Figure size 432x288 with 1 Axes>"
      ]
     },
     "metadata": {
      "needs_background": "light"
     },
     "output_type": "display_data"
    }
   ],
   "source": [
    "#Relationship with n field counters\n",
    "plt.scatter(raw_data[\"average_wind\"], raw_data[\"n_field_counters\"]);"
   ]
  },
  {
   "cell_type": "markdown",
   "metadata": {},
   "source": [
    "### Temperature"
   ]
  },
  {
   "cell_type": "code",
   "execution_count": 88,
   "metadata": {
    "collapsed": false
   },
   "outputs": [
    {
     "data": {
      "text/plain": [
       "2.0    50381\n",
       "1.0     6645\n",
       "Name: temp_unit, dtype: int64"
      ]
     },
     "execution_count": 88,
     "metadata": {},
     "output_type": "execute_result"
    }
   ],
   "source": [
    "raw_data['temp_unit'].value_counts()"
   ]
  },
  {
   "cell_type": "code",
   "execution_count": 89,
   "metadata": {
    "collapsed": false
   },
   "outputs": [],
   "source": [
    "# raw_data[raw_data[\"temp_unit\"] != 1.0][[\"min_temp\", \"max_temp\"]].describe()"
   ]
  },
  {
   "cell_type": "markdown",
   "metadata": {},
   "source": [
    "# Plotly for interactive plotting"
   ]
  },
  {
   "cell_type": "code",
   "execution_count": 90,
   "metadata": {},
   "outputs": [
    {
     "data": {
      "text/html": [
       "        <script type=\"text/javascript\">\n",
       "        window.PlotlyConfig = {MathJaxConfig: 'local'};\n",
       "        if (window.MathJax) {MathJax.Hub.Config({SVG: {font: \"STIX-Web\"}});}\n",
       "        if (typeof require !== 'undefined') {\n",
       "        require.undef(\"plotly\");\n",
       "        requirejs.config({\n",
       "            paths: {\n",
       "                'plotly': ['https://cdn.plot.ly/plotly-latest.min']\n",
       "            }\n",
       "        });\n",
       "        require(['plotly'], function(Plotly) {\n",
       "            window._Plotly = Plotly;\n",
       "        });\n",
       "        }\n",
       "        </script>\n",
       "        "
      ]
     },
     "metadata": {},
     "output_type": "display_data"
    },
    {
     "data": {
      "text/html": [
       "        <script type=\"text/javascript\">\n",
       "        window.PlotlyConfig = {MathJaxConfig: 'local'};\n",
       "        if (window.MathJax) {MathJax.Hub.Config({SVG: {font: \"STIX-Web\"}});}\n",
       "        if (typeof require !== 'undefined') {\n",
       "        require.undef(\"plotly\");\n",
       "        requirejs.config({\n",
       "            paths: {\n",
       "                'plotly': ['https://cdn.plot.ly/plotly-latest.min']\n",
       "            }\n",
       "        });\n",
       "        require(['plotly'], function(Plotly) {\n",
       "            window._Plotly = Plotly;\n",
       "        });\n",
       "        }\n",
       "        </script>\n",
       "        "
      ]
     },
     "metadata": {},
     "output_type": "display_data"
    }
   ],
   "source": [
    "import cufflinks as cf\n",
    "cf.set_config_file(offline=True)"
   ]
  },
  {
   "cell_type": "code",
   "execution_count": 91,
   "metadata": {},
   "outputs": [],
   "source": [
    "df_min_snow = df['min_snow_imperial'].to_frame()"
   ]
  },
  {
   "cell_type": "code",
   "execution_count": 92,
   "metadata": {},
   "outputs": [
    {
     "data": {
      "text/plain": [
       "pandas.core.frame.DataFrame"
      ]
     },
     "execution_count": 92,
     "metadata": {},
     "output_type": "execute_result"
    }
   ],
   "source": [
    "type(df_min_snow)"
   ]
  },
  {
   "cell_type": "code",
   "execution_count": 93,
   "metadata": {},
   "outputs": [
    {
     "name": "stdout",
     "output_type": "stream",
     "text": [
      "<class 'pandas.core.frame.DataFrame'>\n",
      "Int64Index: 106925 entries, 0 to 106928\n",
      "Data columns (total 1 columns):\n",
      "min_snow_imperial    76936 non-null float64\n",
      "dtypes: float64(1)\n",
      "memory usage: 1.6 MB\n"
     ]
    }
   ],
   "source": [
    "df_min_snow.info()"
   ]
  },
  {
   "cell_type": "code",
   "execution_count": null,
   "metadata": {},
   "outputs": [],
   "source": []
  },
  {
   "cell_type": "code",
   "execution_count": 97,
   "metadata": {},
   "outputs": [],
   "source": [
    "# df_min_snow.iplot(kind='histogram', title='Snow')"
   ]
  },
  {
   "cell_type": "code",
   "execution_count": 95,
   "metadata": {},
   "outputs": [],
   "source": [
    "import plotly_express as px"
   ]
  },
  {
   "cell_type": "code",
   "execution_count": null,
   "metadata": {},
   "outputs": [],
   "source": [
    "import plotly.offline as py\n",
    "import plotly.graph_objs as go\n",
    "import plotly.figure_factory as ff\n",
    "import plotly.tools as tls\n",
    "\n",
    "scl = [ [0,\"rgb(5, 10, 172)\"],[0.35,\"rgb(40, 60, 190)\"],[0.5,\"rgb(70, 100, 245)\"],\\\n",
    "    [0.6,\"rgb(90, 120, 245)\"],[0.7,\"rgb(106, 137, 247)\"],[1,\"rgb(220, 220, 220)\"] ]\n",
    "\n",
    "data = [ go.Scattergeo(\n",
    "        locationmode = 'USA-states',\n",
    "        lon = df['lon'],\n",
    "        lat = df['lat'],\n",
    "        #text = df['text'],\n",
    "        mode = 'markers',\n",
    "        marker = dict( \n",
    "            size = 8, \n",
    "            opacity = 0.8,\n",
    "            reversescale = True,\n",
    "            autocolorscale = False,\n",
    "            symbol = 'square',\n",
    "            line = dict(\n",
    "                width=1,\n",
    "                color='rgba(102, 102, 102)'\n",
    "            ),\n",
    "            colorscale = scl,\n",
    "            cmin = 0,\n",
    "            #color = df['cnt'],\n",
    "            #cmax = df['cnt'].max(),\n",
    "            colorbar=dict(\n",
    "                title=\"Incoming flights<br>February 2011\"\n",
    "            )\n",
    "        ))]\n",
    "\n",
    "layout = dict(\n",
    "        title = 'Most trafficked US airports<br>(Hover for airport names)', \n",
    "        geo = dict(\n",
    "            scope='usa',\n",
    "            projection=dict( type='albers usa' ),\n",
    "            showland = True,\n",
    "            landcolor = \"rgb(250, 250, 250)\",\n",
    "            subunitcolor = \"rgb(217, 217, 217)\",\n",
    "            countrycolor = \"rgb(217, 217, 217)\",\n",
    "            countrywidth = 0.5,\n",
    "            subunitwidth = 0.5        \n",
    "        ),\n",
    "    )\n",
    "\n",
    "fig = go.Figure(data=data, layout=layout )\n",
    "py.iplot(fig, filename='d3-airports' )"
   ]
  },
  {
   "cell_type": "code",
   "execution_count": null,
   "metadata": {},
   "outputs": [],
   "source": [
    "df.info()"
   ]
  },
  {
   "cell_type": "code",
   "execution_count": null,
   "metadata": {},
   "outputs": [],
   "source": []
  },
  {
   "cell_type": "code",
   "execution_count": null,
   "metadata": {},
   "outputs": [],
   "source": []
  }
 ],
 "metadata": {
  "anaconda-cloud": {},
  "kernelspec": {
   "display_name": "Python 3",
   "language": "python",
   "name": "python3"
  },
  "language_info": {
   "codemirror_mode": {
    "name": "ipython",
    "version": 3
   },
   "file_extension": ".py",
   "mimetype": "text/x-python",
   "name": "python",
   "nbconvert_exporter": "python",
   "pygments_lexer": "ipython3",
   "version": "3.6.7"
  },
  "varInspector": {
   "cols": {
    "lenName": 16,
    "lenType": 16,
    "lenVar": 40
   },
   "kernels_config": {
    "python": {
     "delete_cmd_postfix": "",
     "delete_cmd_prefix": "del ",
     "library": "var_list.py",
     "varRefreshCmd": "print(var_dic_list())"
    },
    "r": {
     "delete_cmd_postfix": ") ",
     "delete_cmd_prefix": "rm(",
     "library": "var_list.r",
     "varRefreshCmd": "cat(var_dic_list()) "
    }
   },
   "types_to_exclude": [
    "module",
    "function",
    "builtin_function_or_method",
    "instance",
    "_Feature"
   ],
   "window_display": false
  }
 },
 "nbformat": 4,
 "nbformat_minor": 2
}
